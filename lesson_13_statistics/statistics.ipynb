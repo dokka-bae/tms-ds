{
  "cells": [
    {
      "cell_type": "markdown",
      "metadata": {
        "id": "AMvEoLUMNjs8"
      },
      "source": [
        "<p><b>Подключение библиотек и функций</b></p>"
      ]
    },
    {
      "cell_type": "code",
      "execution_count": null,
      "metadata": {
        "collapsed": true,
        "id": "7Z6HqeLnNjs-"
      },
      "outputs": [],
      "source": [
        "import numpy as np\n",
        "from scipy import stats\n",
        "import matplotlib.pyplot as plt\n",
        "%matplotlib inline"
      ]
    },
    {
      "cell_type": "code",
      "execution_count": null,
      "metadata": {
        "collapsed": true,
        "id": "kbSFq8huNjtD"
      },
      "outputs": [],
      "source": [
        "def getSE(sigma, n):\n",
        "    return sigma / np.sqrt(n)\n",
        "\n",
        "def getSE2(sigma1, n1, sigma2, n2):\n",
        "    return np.sqrt(sigma1**2 / n1 + sigma2**2 / n2)\n",
        "\n",
        "def getZ(x, mu, se):\n",
        "    return (x - mu) / se\n",
        "\n",
        "def getPrByX(x, mu, se):\n",
        "    return stats.norm.cdf(x, loc=mu, scale=se)\n",
        "\n",
        "def getPrByZ(z):\n",
        "    return stats.norm.cdf(z, loc=0, scale=1)\n",
        "\n",
        "def getZbyPr2Tail(pr):\n",
        "    return stats.norm.ppf((1-pr)/2, loc=0, scale=1)\n",
        "\n",
        "def getZbyPr1Tail(pr):\n",
        "    return stats.norm.ppf(1-pr, loc=0, scale=1)\n",
        "\n",
        "def getPValue1Tail_Norm(z):\n",
        "    return 1 - stats.norm.cdf(z, loc=0, scale=1)\n",
        "\n",
        "def getPValue2Tail_Norm(z):\n",
        "    return 2 * (stats.norm.cdf(-abs(z), loc=0, scale=1))\n",
        "\n",
        "def getPValue2Tail_T(t, df):\n",
        "    return 2 * stats.t.cdf(-abs(t), df=df)\n",
        "\n",
        "def getPValue1Tail_T(t, df):\n",
        "    return 1 - stats.t.cdf(t, df=df)"
      ]
    },
    {
      "cell_type": "markdown",
      "metadata": {
        "id": "FKzKk_rRNjtI"
      },
      "source": [
        "<p>Создание генеральных совокупностей</p>"
      ]
    },
    {
      "cell_type": "code",
      "execution_count": null,
      "metadata": {
        "collapsed": true,
        "id": "BYeufg7xNjtL"
      },
      "outputs": [],
      "source": [
        "mu1 = 70\n",
        "sigma1 = 30\n",
        "population1 = stats.norm.rvs(size=10000, loc=mu1, scale=sigma1)"
      ]
    },
    {
      "cell_type": "code",
      "execution_count": null,
      "metadata": {
        "collapsed": true,
        "id": "N0xtI0-pNjtQ"
      },
      "outputs": [],
      "source": [
        "mu2 = 60\n",
        "sigma2 = 20\n",
        "population2 = stats.norm.rvs(size=10000, loc=mu2, scale=sigma2)"
      ]
    },
    {
      "cell_type": "code",
      "execution_count": null,
      "metadata": {
        "collapsed": true,
        "id": "YY86I0d8NjtS"
      },
      "outputs": [],
      "source": [
        "mu3 = 2\n",
        "sigma3 = 2\n",
        "diff = stats.norm.rvs(size=10000, loc=mu3, scale=sigma3)\n",
        "population3 = list(zip(population1, population1 + diff))"
      ]
    },
    {
      "cell_type": "markdown",
      "metadata": {
        "id": "gTp2TACZNjtW"
      },
      "source": [
        "<p><b><i>Выборка</i></b></p>"
      ]
    },
    {
      "cell_type": "markdown",
      "metadata": {
        "id": "DMQ_-gVpNjtW"
      },
      "source": [
        "<p>Исходные данные</p>"
      ]
    },
    {
      "cell_type": "code",
      "execution_count": null,
      "metadata": {
        "colab": {
          "base_uri": "https://localhost:8080/"
        },
        "id": "LbDK6wcYNjtW",
        "outputId": "467cc94c-9bfa-4f72-e412-4b8735c94c32"
      },
      "outputs": [
        {
          "output_type": "execute_result",
          "data": {
            "text/plain": [
              "array([ 95.29904931,  45.46900501,  60.17249447,  47.87139067,\n",
              "        78.99709407,  62.29424128, 101.79810407,  48.82980493,\n",
              "        73.56760369,  68.39744223,  83.25524325,  58.4188242 ,\n",
              "        75.96483102,  95.41877565,  71.42702359,  92.21497588,\n",
              "        90.7795942 ,  83.81000845,  35.63529845,  35.76685896,\n",
              "        26.76562886,  34.16660519,  80.71738182,  56.83141815,\n",
              "        34.75026294,  23.20201803,  33.88617144,  91.22762851,\n",
              "        70.91317527, 106.3417718 ,  16.5919933 ,  55.82647414,\n",
              "        81.01787608,  48.93922848,  66.7448425 ,  27.5483402 ,\n",
              "        79.17951078,  42.33019988,  56.72656991,  93.61153366])"
            ]
          },
          "metadata": {},
          "execution_count": 7
        }
      ],
      "source": [
        "n = 40\n",
        "sample_2015 = np.random.choice(population1, n, replace=False)\n",
        "sample_2015"
      ]
    },
    {
      "cell_type": "markdown",
      "metadata": {
        "id": "wJtW8otANjtX"
      },
      "source": [
        "<p>Статистики выборки</p>"
      ]
    },
    {
      "cell_type": "code",
      "execution_count": null,
      "metadata": {
        "colab": {
          "base_uri": "https://localhost:8080/"
        },
        "id": "HVVBEmFuNjtX",
        "outputId": "9084586b-42fe-421e-e1e9-84a9904096f3"
      },
      "outputs": [
        {
          "output_type": "stream",
          "name": "stdout",
          "text": [
            "63.31765735727136\n",
            "591.9051323005966\n",
            "24.329100523870515\n"
          ]
        }
      ],
      "source": [
        "#Среднее значение\n",
        "x_bar = None # Your code here\n",
        "print(x_bar)\n",
        "\n",
        "#Выборочная дисперсия\n",
        "var_2015 = None # Your code here\n",
        "print(var_2015)\n",
        "\n",
        "#Стандартное отклонение (несмещенное)\n",
        "s_2015 = None # Your code here\n",
        "print(s_2015)"
      ]
    },
    {
      "cell_type": "markdown",
      "metadata": {
        "id": "xGtE_jXqNjtY"
      },
      "source": [
        "<p><b><i>Доверительный интервал</i></b></p>"
      ]
    },
    {
      "cell_type": "code",
      "execution_count": null,
      "metadata": {
        "collapsed": true,
        "id": "qpKgezxANjtY"
      },
      "outputs": [],
      "source": [
        "#Уровни доверия: 95%, 90%, 80%\n",
        "prs = np.array([0.95, 0.9, 0.8])"
      ]
    },
    {
      "cell_type": "code",
      "execution_count": null,
      "metadata": {
        "colab": {
          "base_uri": "https://localhost:8080/"
        },
        "id": "pn6EKxuMNjtZ",
        "outputId": "91f2b3cd-7514-46c7-b67f-b8a076c71856"
      },
      "outputs": [
        {
          "output_type": "execute_result",
          "data": {
            "text/plain": [
              "3.846768553931327"
            ]
          },
          "metadata": {},
          "execution_count": 11
        }
      ],
      "source": [
        "#Стандартная ошибка\n",
        "se = None # Your code here\n",
        "se"
      ]
    },
    {
      "cell_type": "code",
      "execution_count": null,
      "metadata": {
        "colab": {
          "base_uri": "https://localhost:8080/"
        },
        "id": "Er4IMmsXNjta",
        "outputId": "f7cb7f55-3e4b-4b15-8404-36f37b74f61a"
      },
      "outputs": [
        {
          "output_type": "stream",
          "name": "stdout",
          "text": [
            "Уровень доверия 95%: (55.778130, 70.857185)\n",
            "Уровень доверия 90%: (56.990286, 69.645029)\n",
            "Уровень доверия 80%: (58.387825, 68.247490)\n"
          ]
        }
      ],
      "source": [
        "#Доверительный интервал\n",
        "lowers, uppers = None # Your code her)\n",
        "for i in range(len(prs)):\n",
        "    print(\"Уровень доверия %i%%: (%f, %f)\" % (prs[i]*100, lowers[i], uppers[i]))"
      ]
    },
    {
      "cell_type": "code",
      "execution_count": null,
      "metadata": {
        "colab": {
          "base_uri": "https://localhost:8080/"
        },
        "id": "GAmN7ihONjta",
        "outputId": "a33c0548-dc6f-484f-cb74-d76149edf2e0"
      },
      "outputs": [
        {
          "output_type": "stream",
          "name": "stdout",
          "text": [
            "t-распределение\n",
            "Уровень доверия 95%: (55.536834, 71.098481)\n",
            "Уровень доверия 90%: (56.836333, 69.798982)\n",
            "Уровень доверия 80%: (58.302861, 68.332453)\n"
          ]
        }
      ],
      "source": [
        "#Доверительный интервал для t-распределения (при небольших n)\n",
        "lowers_t, uppers_t = None # Your code here\n",
        "print(\"t-распределение\")\n",
        "for i in range(len(prs)):\n",
        "    print(\"Уровень доверия %i%%: (%f, %f)\" % (prs[i]*100, lowers_t[i], uppers_t[i]))"
      ]
    },
    {
      "cell_type": "markdown",
      "metadata": {
        "id": "_dgCk0Z9Njta"
      },
      "source": [
        "<p>или</p>"
      ]
    },
    {
      "cell_type": "code",
      "execution_count": null,
      "metadata": {
        "colab": {
          "base_uri": "https://localhost:8080/"
        },
        "id": "T5pBlgBhNjta",
        "outputId": "47abc1b3-4472-4a97-c5a6-e28f9c255bc7"
      },
      "outputs": [
        {
          "output_type": "execute_result",
          "data": {
            "text/plain": [
              "array([-1.95996398, -1.64485363, -1.28155157])"
            ]
          },
          "metadata": {},
          "execution_count": 14
        }
      ],
      "source": [
        "#z-значения для двустороннего интервала\n",
        "zs = None # Your code here\n",
        "zs"
      ]
    },
    {
      "cell_type": "code",
      "execution_count": null,
      "metadata": {
        "colab": {
          "base_uri": "https://localhost:8080/"
        },
        "id": "PsOPXG5fNjta",
        "outputId": "a8d2cf4c-d1e2-405b-a4c6-896b7349b6f3"
      },
      "outputs": [
        {
          "output_type": "execute_result",
          "data": {
            "text/plain": [
              "array([-1.95996398, -1.64485363, -1.28155157])"
            ]
          },
          "metadata": {},
          "execution_count": 15
        }
      ],
      "source": [
        "#z-значения для двустороннего интервала\n",
        "zs = None # Your code here\n",
        "zs"
      ]
    },
    {
      "cell_type": "code",
      "execution_count": null,
      "metadata": {
        "colab": {
          "base_uri": "https://localhost:8080/"
        },
        "id": "oCfrqYiDNjtb",
        "outputId": "142536bb-353f-4fe1-b2e5-b734e72cf344"
      },
      "outputs": [
        {
          "output_type": "execute_result",
          "data": {
            "text/plain": [
              "array([7.53952782, 6.32737121, 4.92983226])"
            ]
          },
          "metadata": {},
          "execution_count": 16
        }
      ],
      "source": [
        "#Предельная ошибка\n",
        "delta = None # Your code here\n",
        "delta"
      ]
    },
    {
      "cell_type": "code",
      "execution_count": null,
      "metadata": {
        "colab": {
          "base_uri": "https://localhost:8080/"
        },
        "id": "qKR4lFwQNjtb",
        "outputId": "ee11a3f7-7b57-4797-ac07-725d4b5f008f"
      },
      "outputs": [
        {
          "output_type": "stream",
          "name": "stdout",
          "text": [
            "Уровень доверия 95%: (55.778130, 70.857185)\n",
            "Уровень доверия 90%: (56.990286, 69.645029)\n",
            "Уровень доверия 80%: (58.387825, 68.247490)\n"
          ]
        }
      ],
      "source": [
        "#Доверительный интервал\n",
        "lowers = None # Your code here\n",
        "uppers = None # Your code here\n",
        "\n",
        "for i in range(len(prs)):\n",
        "    print(\"Уровень доверия %i%%: (%f, %f)\" % (prs[i]*100, lowers[i], uppers[i]))"
      ]
    },
    {
      "cell_type": "markdown",
      "metadata": {
        "id": "XHk93H7MNjtb"
      },
      "source": [
        "<p>$$H_0: \\mu_{2014}=\\mu_{2015}$$<p>\n",
        "<p>$$H_A: \\mu_{2014} \\neq \\mu_{2015}$$<p>"
      ]
    },
    {
      "cell_type": "markdown",
      "metadata": {
        "id": "r5M3vaFxNjtb"
      },
      "source": [
        "<p><b><i>Выборка</i></b></p>"
      ]
    },
    {
      "cell_type": "markdown",
      "metadata": {
        "id": "LMl5AUPKNjtb"
      },
      "source": [
        "<p>Исходные данные</p>"
      ]
    },
    {
      "cell_type": "code",
      "execution_count": null,
      "metadata": {
        "colab": {
          "base_uri": "https://localhost:8080/"
        },
        "id": "chyMyFGeNjtb",
        "outputId": "59ff95eb-fb46-4e51-b0f7-294ee42f8d8b"
      },
      "outputs": [
        {
          "output_type": "execute_result",
          "data": {
            "text/plain": [
              "array([ 40.53603612,  12.2003088 , 101.33882055,  50.9917911 ,\n",
              "        35.12776537,  68.68433507,  66.8029707 ,  66.6260119 ,\n",
              "        71.02398181,  61.23602316,  78.03804575,  63.24253296,\n",
              "        74.66730301,  65.2043461 ,  18.57846332,  77.2098614 ,\n",
              "        52.50323636,  23.64261497, 111.19657857,  49.39318842,\n",
              "        57.10516408,  96.68127617,  89.38271441,  59.82283977,\n",
              "        73.70829694,  76.30809903, 109.82426872,  41.27730762,\n",
              "        37.82785751,  49.64264471,  82.09347212, 102.63773142,\n",
              "        74.96657792,  69.25905148,  71.51553511,  51.6425729 ,\n",
              "       121.66721325, 129.00108852, 101.6450525 ,  82.03719191])"
            ]
          },
          "metadata": {},
          "execution_count": 18
        }
      ],
      "source": [
        "mu_2014 = 65\n",
        "n = 40\n",
        "alpha = 0.05 #уровень значимости\n",
        "sample_2015 = np.random.choice(population1, n, replace=False)\n",
        "sample_2015"
      ]
    },
    {
      "cell_type": "code",
      "execution_count": null,
      "metadata": {
        "colab": {
          "base_uri": "https://localhost:8080/"
        },
        "id": "nXY7zISkNjtb",
        "outputId": "cb143d6d-48d5-408e-e710-61cc0ec47724"
      },
      "outputs": [
        {
          "output_type": "stream",
          "name": "stdout",
          "text": [
            "63.31765735727136\n",
            "26.99178259083528\n",
            "4.2677755547560094\n"
          ]
        }
      ],
      "source": [
        "#Среднее значение\n",
        "x_bar_2015 = None # Your code here\n",
        "print(x_bar)\n",
        "\n",
        "#Стандартное отклонение (несмещенное)\n",
        "s_2015 = None # Your code here\n",
        "print(s_2015)\n",
        "\n",
        "#Стандартная ошибка\n",
        "se = None # Your code here\n",
        "print(se)"
      ]
    },
    {
      "cell_type": "markdown",
      "metadata": {
        "id": "ab4I0PKINjtb"
      },
      "source": [
        "<p><b>Проверка гипотезы</b></p>"
      ]
    },
    {
      "cell_type": "code",
      "execution_count": null,
      "metadata": {
        "colab": {
          "base_uri": "https://localhost:8080/"
        },
        "id": "olyMwb-3Njtc",
        "outputId": "4a262bfc-0402-4cd0-ae8a-3556ba49d39c"
      },
      "outputs": [
        {
          "output_type": "execute_result",
          "data": {
            "text/plain": [
              "0.9741033083219183"
            ]
          },
          "metadata": {},
          "execution_count": 20
        }
      ],
      "source": [
        "#Z-score\n",
        "z = None # Your code here\n",
        "z"
      ]
    },
    {
      "cell_type": "code",
      "execution_count": null,
      "metadata": {
        "colab": {
          "base_uri": "https://localhost:8080/"
        },
        "id": "CC7K7oYBNjtc",
        "outputId": "e7cfdf81-f77c-4605-9b8c-ef2393fab3c5"
      },
      "outputs": [
        {
          "output_type": "execute_result",
          "data": {
            "text/plain": [
              "0.3300052470457966"
            ]
          },
          "metadata": {},
          "execution_count": 21
        }
      ],
      "source": [
        "#P-Value\n",
        "pvalue = None # Your code here\n",
        "pvalue"
      ]
    },
    {
      "cell_type": "code",
      "execution_count": null,
      "metadata": {
        "colab": {
          "base_uri": "https://localhost:8080/"
        },
        "id": "mtymTRooNjtc",
        "outputId": "39c65136-d6a9-4961-a2c1-6a7a95a98f84"
      },
      "outputs": [
        {
          "output_type": "execute_result",
          "data": {
            "text/plain": [
              "0.3360087261184035"
            ]
          },
          "metadata": {},
          "execution_count": 22
        }
      ],
      "source": [
        "#P-Value для t-распределения\n",
        "df = n - 1 #степень свободы\n",
        "pvalue_t = None # Your code here\n",
        "pvalue_t"
      ]
    },
    {
      "cell_type": "markdown",
      "metadata": {
        "id": "_1aV9j4ONjte"
      },
      "source": [
        "<p>или</p>"
      ]
    },
    {
      "cell_type": "code",
      "execution_count": null,
      "metadata": {
        "colab": {
          "base_uri": "https://localhost:8080/"
        },
        "id": "KZSTlJPUNjtj",
        "outputId": "8c93883c-1803-45dd-e00f-1e25bbd04b0a"
      },
      "outputs": [
        {
          "output_type": "execute_result",
          "data": {
            "text/plain": [
              "0.3360087261184035"
            ]
          },
          "metadata": {},
          "execution_count": 23
        }
      ],
      "source": [
        "tvalue, pvalue_t = None # Your code here\n",
        "pvalue_t"
      ]
    },
    {
      "cell_type": "code",
      "execution_count": null,
      "metadata": {
        "colab": {
          "base_uri": "https://localhost:8080/"
        },
        "id": "Jb_cGlH6Njtj",
        "outputId": "9639e4e8-c9c1-4157-b624-a1c87e3263a5"
      },
      "outputs": [
        {
          "output_type": "execute_result",
          "data": {
            "text/plain": [
              "0.3360087261184035"
            ]
          },
          "metadata": {},
          "execution_count": 24
        }
      ],
      "source": [
        "pvalue_t = None # Your code here\n",
        "pvalue_t"
      ]
    },
    {
      "cell_type": "markdown",
      "metadata": {
        "id": "glSY7N0MNjtk"
      },
      "source": [
        "<p><b>Проверка гипотезы на соответствие уровню значимости $\\alpha$</b></p>"
      ]
    },
    {
      "cell_type": "code",
      "execution_count": null,
      "metadata": {
        "colab": {
          "base_uri": "https://localhost:8080/"
        },
        "id": "joaQRpVsNjtk",
        "outputId": "41bbf021-eace-4063-c907-df16e542dcd4"
      },
      "outputs": [
        {
          "output_type": "stream",
          "name": "stdout",
          "text": [
            "alpha <= p-value\n",
            "Принимаем нулевую гипотезу (не отказываемся от нулевой гипотезы)\n"
          ]
        }
      ],
      "source": [
        "if alpha > pvalue:\n",
        "    print(\"alpha > p-value\")\n",
        "    print(\"Отказываемся от нулевую гипотезы в пользу альтернативной\")\n",
        "else:\n",
        "    print(\"alpha <= p-value\")\n",
        "    print(\"Принимаем нулевую гипотезу (не отказываемся от нулевой гипотезы)\")"
      ]
    },
    {
      "cell_type": "markdown",
      "metadata": {
        "id": "6KMuLFDINjtk"
      },
      "source": [
        "<p><b><i>Выборка</i></b></p>"
      ]
    },
    {
      "cell_type": "markdown",
      "metadata": {
        "id": "37YSzjQFNjtk"
      },
      "source": [
        "<p>Исходные данные</p>"
      ]
    },
    {
      "cell_type": "code",
      "execution_count": null,
      "metadata": {
        "collapsed": true,
        "id": "U7ANV308Njtl"
      },
      "outputs": [],
      "source": [
        "alpha = 0.05 #уровень значимости"
      ]
    },
    {
      "cell_type": "code",
      "execution_count": null,
      "metadata": {
        "colab": {
          "base_uri": "https://localhost:8080/"
        },
        "id": "msdXF27MNjtl",
        "outputId": "ce7b4f70-5a5f-49a2-c244-8cf664db7d18"
      },
      "outputs": [
        {
          "output_type": "execute_result",
          "data": {
            "text/plain": [
              "array([[ 95.16631603,  94.6637336 ],\n",
              "       [ 57.50511817,  62.47924395],\n",
              "       [ 21.96480311,  22.09152879],\n",
              "       [ 69.78452818,  67.97622281],\n",
              "       [128.38679866, 128.99974334],\n",
              "       [111.2092408 , 109.65072275],\n",
              "       [ 38.83983958,  38.7147873 ],\n",
              "       [ 72.51918723,  74.73406968],\n",
              "       [ 45.24644237,  44.27319179],\n",
              "       [134.99499884, 134.30930991],\n",
              "       [ 71.34629748,  74.06765821],\n",
              "       [104.29999127, 107.23714641],\n",
              "       [107.78718896, 109.96129117],\n",
              "       [118.2022069 , 121.17432763],\n",
              "       [ 50.99008285,  49.49095703],\n",
              "       [ 81.79288107,  82.70016837],\n",
              "       [110.58221655, 113.73226353],\n",
              "       [ 14.68259886,  16.76408253],\n",
              "       [ 56.53216125,  60.45392798],\n",
              "       [ 49.17498201,  54.0186    ],\n",
              "       [ 62.43816157,  63.45239583],\n",
              "       [ 77.41677267,  78.49193492],\n",
              "       [ 33.25255462,  37.63482512],\n",
              "       [ 63.40802792,  66.32130644],\n",
              "       [ 39.45482131,  41.18096511],\n",
              "       [ 58.21479958,  58.83319454],\n",
              "       [ 74.97708923,  75.97400762],\n",
              "       [  5.66953381,   5.82865   ],\n",
              "       [ 85.59006618,  86.13297298],\n",
              "       [ 75.01755504,  74.28873998],\n",
              "       [ 92.65566791,  92.81347837],\n",
              "       [102.64006077, 102.65110096],\n",
              "       [ 25.02170898,  27.59559485],\n",
              "       [ 35.62937339,  36.01197319],\n",
              "       [116.36911266, 116.96862393],\n",
              "       [ 73.44153453,  76.31629792],\n",
              "       [ 95.68278858,  97.43101946],\n",
              "       [ 83.6978534 ,  89.07428047],\n",
              "       [ 54.80425522,  55.96443103],\n",
              "       [ 68.69453766,  74.37989245]])"
            ]
          },
          "metadata": {},
          "execution_count": 27
        }
      ],
      "source": [
        "import random\n",
        "\n",
        "n_items = 40\n",
        "sample_items = np.array(random.sample(population3, n_items))\n",
        "sample_items"
      ]
    },
    {
      "cell_type": "code",
      "execution_count": null,
      "metadata": {
        "colab": {
          "base_uri": "https://localhost:8080/"
        },
        "id": "Qc4mUTOxNjtl",
        "outputId": "50c41534-f573-4d3a-f8f3-ef0ecd6c896a"
      },
      "outputs": [
        {
          "output_type": "execute_result",
          "data": {
            "text/plain": [
              "array([ 0.50258244, -4.97412578, -0.12672568,  1.80830537, -0.61294468,\n",
              "        1.55851806,  0.12505228, -2.21488245,  0.97325059,  0.68568893,\n",
              "       -2.72136074, -2.93715514, -2.17410221, -2.97212072,  1.49912582,\n",
              "       -0.9072873 , -3.15004699, -2.08148368, -3.92176674, -4.843618  ,\n",
              "       -1.01423426, -1.07516225, -4.38227051, -2.91327851, -1.7261438 ,\n",
              "       -0.61839496, -0.99691839, -0.15911619, -0.5429068 ,  0.72881507,\n",
              "       -0.15781045, -0.01104019, -2.57388588, -0.3825998 , -0.59951127,\n",
              "       -2.87476339, -1.74823088, -5.37642708, -1.16017581, -5.68535479])"
            ]
          },
          "metadata": {},
          "execution_count": 28
        }
      ],
      "source": [
        "sample_diff = sample_items[:,0] - sample_items[:,1]\n",
        "sample_diff"
      ]
    },
    {
      "cell_type": "code",
      "execution_count": null,
      "metadata": {
        "colab": {
          "base_uri": "https://localhost:8080/"
        },
        "id": "I0XyyqglNjtl",
        "outputId": "6e603b19-878e-4ab9-f3bd-ef9d3299d21b"
      },
      "outputs": [
        {
          "output_type": "stream",
          "name": "stdout",
          "text": [
            "x_bar_diff = -1.4938626691754087\n",
            "s_diff = 1.9615101567255893\n",
            "se_diff = 0.31014198744033533\n"
          ]
        }
      ],
      "source": [
        "#Среднее значение\n",
        "x_bar_diff = None # Your code here\n",
        "print(\"x_bar_diff =\", x_bar_diff)\n",
        "\n",
        "#Стандартное отклонение (несмещенное)\n",
        "s_diff = None # Your code here\n",
        "print(\"s_diff =\", s_diff)\n",
        "\n",
        "#Стандартная ошибка\n",
        "se_diff = None # Your code here\n",
        "print(\"se_diff =\", se_diff)"
      ]
    },
    {
      "cell_type": "markdown",
      "metadata": {
        "id": "Nv43GPS4Njtm"
      },
      "source": [
        "<p><b>Проверка гипотезы</b></p>"
      ]
    },
    {
      "cell_type": "markdown",
      "metadata": {
        "id": "b-G3vn6fNjtm"
      },
      "source": [
        "<p>$$H_0: \\mu_{diff}=0$$<p>\n",
        "<p>$$H_A: \\mu_{diff} \\neq 0$$<p>"
      ]
    },
    {
      "cell_type": "code",
      "execution_count": null,
      "metadata": {
        "colab": {
          "base_uri": "https://localhost:8080/"
        },
        "id": "j7KWzK3ENjtm",
        "outputId": "0208c047-96a0-4f6d-b778-23006d1fc0a8"
      },
      "outputs": [
        {
          "output_type": "execute_result",
          "data": {
            "text/plain": [
              "-4.816705669247044"
            ]
          },
          "metadata": {},
          "execution_count": 30
        }
      ],
      "source": [
        "#Z-score\n",
        "z = None # Your code here\n",
        "z"
      ]
    },
    {
      "cell_type": "code",
      "execution_count": null,
      "metadata": {
        "colab": {
          "base_uri": "https://localhost:8080/"
        },
        "id": "p6wfUY73Njtm",
        "outputId": "16da966f-06fe-411f-bf1e-279b34b4f4ae"
      },
      "outputs": [
        {
          "output_type": "execute_result",
          "data": {
            "text/plain": [
              "1.4594772386822552e-06"
            ]
          },
          "metadata": {},
          "execution_count": 31
        }
      ],
      "source": [
        "#P-Value\n",
        "pvalue = None # Your code here\n",
        "pvalue"
      ]
    },
    {
      "cell_type": "code",
      "execution_count": null,
      "metadata": {
        "colab": {
          "base_uri": "https://localhost:8080/"
        },
        "id": "03qgDD9_Njtm",
        "outputId": "b8f27c9e-ea7f-4432-e647-7395431892a7"
      },
      "outputs": [
        {
          "output_type": "execute_result",
          "data": {
            "text/plain": [
              "2.2294309097664822e-05"
            ]
          },
          "metadata": {},
          "execution_count": 32
        }
      ],
      "source": [
        "#P-Value для t-распределения\n",
        "df = None # Your code here\n",
        "\n",
        "pvalue_t = None # Your code here\n",
        "pvalue_t"
      ]
    },
    {
      "cell_type": "markdown",
      "metadata": {
        "id": "nBiVWhsSNjtn"
      },
      "source": [
        "<p>или</p>"
      ]
    },
    {
      "cell_type": "code",
      "execution_count": null,
      "metadata": {
        "colab": {
          "base_uri": "https://localhost:8080/"
        },
        "id": "TwB3U1mtNjtn",
        "outputId": "201d272f-d571-431b-bc6f-627b1a262c78"
      },
      "outputs": [
        {
          "output_type": "stream",
          "name": "stdout",
          "text": [
            "t-value = -4.816705669247044\n",
            "p-value = 2.2294309097664822e-05\n"
          ]
        }
      ],
      "source": [
        "tvalue, pvalue_t = None # Your code here\n",
        "print(\"t-value =\", tvalue)\n",
        "print(\"p-value =\", pvalue_t)"
      ]
    },
    {
      "cell_type": "code",
      "execution_count": null,
      "metadata": {
        "colab": {
          "base_uri": "https://localhost:8080/"
        },
        "id": "3OqwaYqINjtn",
        "outputId": "0696f4b3-f749-4ee5-a49d-0691a6b7d7e1"
      },
      "outputs": [
        {
          "output_type": "execute_result",
          "data": {
            "text/plain": [
              "2.2294309097664822e-05"
            ]
          },
          "metadata": {},
          "execution_count": 34
        }
      ],
      "source": [
        "pvalue_t = 2 * stats.t.cdf(-abs(tvalue), df)\n",
        "pvalue_t"
      ]
    },
    {
      "cell_type": "markdown",
      "metadata": {
        "id": "y7WMh5vANjtn"
      },
      "source": [
        "<p><b>Проверка гипотезы на соответствие уровню значимости $\\alpha$</b></p>"
      ]
    },
    {
      "cell_type": "code",
      "execution_count": null,
      "metadata": {
        "colab": {
          "base_uri": "https://localhost:8080/"
        },
        "id": "dZMA4lRINjto",
        "outputId": "281df22a-978c-4ca0-baf0-918635066ed1"
      },
      "outputs": [
        {
          "output_type": "stream",
          "name": "stdout",
          "text": [
            "alpha > p-value\n",
            "Отказываемся от нулевую гипотезы в пользу альтернативной\n"
          ]
        }
      ],
      "source": [
        "if alpha > pvalue:\n",
        "    print(\"alpha > p-value\")\n",
        "    print(\"Отказываемся от нулевую гипотезы в пользу альтернативной\")\n",
        "else:\n",
        "    print(\"alpha <= p-value\")\n",
        "    print(\"Принимаем нулевую гипотезу (не отказываемся от нулевой гипотезы)\")"
      ]
    },
    {
      "cell_type": "markdown",
      "metadata": {
        "id": "95GL-rHdNjto"
      },
      "source": [
        "<p><b><i>Выборка</i></b></p>"
      ]
    },
    {
      "cell_type": "markdown",
      "metadata": {
        "id": "OLeC6fsZNjto"
      },
      "source": [
        "<p>Исходные данные</p>"
      ]
    },
    {
      "cell_type": "code",
      "execution_count": null,
      "metadata": {
        "collapsed": true,
        "id": "wDC36T3-Njto"
      },
      "outputs": [],
      "source": [
        "alpha = 0.05 #уровень значимости"
      ]
    },
    {
      "cell_type": "code",
      "execution_count": null,
      "metadata": {
        "colab": {
          "base_uri": "https://localhost:8080/"
        },
        "id": "r4UMdfjbNjto",
        "outputId": "6f5257e3-4fb9-4a9a-fd1a-9f60eeca70dd"
      },
      "outputs": [
        {
          "output_type": "execute_result",
          "data": {
            "text/plain": [
              "array([ 90.75078532,  94.48790637,  20.90906195,  59.05337362,\n",
              "        82.06665674,  58.24777067,  93.79031646,  38.78633186,\n",
              "        10.72151927,  82.91078687,  41.82336595,  57.49888434,\n",
              "        32.26435865,  58.03656886,  23.14778819,  17.23748644,\n",
              "        56.98624403,  50.33610974, 121.5336427 ,  55.89762868,\n",
              "       101.15055255,  84.89585884,  85.762544  ,  74.26687583,\n",
              "        50.44344485,  38.75446041,  37.59553856, 113.2408705 ,\n",
              "        72.60633959,  92.65610239, 108.28831128,  36.78813824,\n",
              "        97.99089277,  61.40120274,  39.87212379,  72.20258634,\n",
              "        59.03084842,  96.39796808,  93.61153366,  34.22559982])"
            ]
          },
          "metadata": {},
          "execution_count": 37
        }
      ],
      "source": [
        "n_london = 40\n",
        "sample_london = np.random.choice(population1, n_london, replace=False)\n",
        "sample_london"
      ]
    },
    {
      "cell_type": "code",
      "execution_count": null,
      "metadata": {
        "colab": {
          "base_uri": "https://localhost:8080/"
        },
        "id": "J-3u7B1pNjto",
        "outputId": "24c13e79-9bf5-48d7-d549-0ae9f247514f"
      },
      "outputs": [
        {
          "output_type": "execute_result",
          "data": {
            "text/plain": [
              "array([56.74526143, 85.08487202, 23.35801843, 81.9134661 , 70.20498389,\n",
              "       55.81244397, 55.07654542, 80.71644656, 56.58292132, 48.29758003,\n",
              "       61.65198624, 87.64884571, 55.7879653 , 57.83664488, 84.54481557,\n",
              "       51.70624082, 64.87250756, 48.80729477,  3.55646911, 30.35123899,\n",
              "       35.01809928, 76.57088931, 40.82304216, 42.47458107, -5.41029876,\n",
              "       96.93832035, 56.46671658, 72.64501889, 38.59703624, 42.80138033,\n",
              "       60.18491554, 40.7893726 , 46.29004857, 61.04349339, 46.83817378,\n",
              "       61.90982267, 78.51464322, 55.0429175 , 53.63116899, 23.25971459,\n",
              "       82.96309196, 62.95267538, 55.2352214 , 63.35865114, 41.98199782,\n",
              "       54.41419113, 36.91342708, 86.81945064, -5.67872904, 74.20834375])"
            ]
          },
          "metadata": {},
          "execution_count": 38
        }
      ],
      "source": [
        "n_moscow = 50\n",
        "sample_moscow = np.random.choice(population2, n_moscow, replace=False)\n",
        "sample_moscow"
      ]
    },
    {
      "cell_type": "code",
      "execution_count": null,
      "metadata": {
        "colab": {
          "base_uri": "https://localhost:8080/"
        },
        "id": "qIYY37EANjtp",
        "outputId": "982ba366-4707-420e-a9cc-d4e5757beac8"
      },
      "outputs": [
        {
          "output_type": "stream",
          "name": "stdout",
          "text": [
            "x_bar_london = 64.94170948371121\n",
            "x_bar_moscow = 54.76307851439969\n",
            "s_london = 28.73358891182093\n",
            "s_moscow = 22.50586749004621\n",
            "se_london_moscow = 5.547139778609184\n"
          ]
        }
      ],
      "source": [
        "#Среднее значение\n",
        "x_bar_london = None # Your code here\n",
        "x_bar_moscow = None # Your code here\n",
        "print(\"x_bar_london =\", x_bar_london)\n",
        "print(\"x_bar_moscow =\", x_bar_moscow)\n",
        "\n",
        "#Стандартное отклонение (несмещенное)\n",
        "s_london = None # Your code here\n",
        "s_moscow = None # Your code here\n",
        "print(\"s_london =\", s_london)\n",
        "print(\"s_moscow =\", s_moscow)\n",
        "\n",
        "#Стандартная ошибка\n",
        "se_london_moscow = None # Your code here\n",
        "print(\"se_london_moscow =\", se_london_moscow)"
      ]
    },
    {
      "cell_type": "markdown",
      "metadata": {
        "id": "0SZCwXx9Njtp"
      },
      "source": [
        "<p><b>Проверка гипотезы</b></p>"
      ]
    },
    {
      "cell_type": "markdown",
      "metadata": {
        "id": "xznLEiitNjtp"
      },
      "source": [
        "<p>$$H_0: \\mu_{treated}-\\mu_{control}=0$$<p>\n",
        "<p>$$H_A: \\mu_{treated}-\\mu_{control} \\neq 0$$<p>"
      ]
    },
    {
      "cell_type": "code",
      "execution_count": null,
      "metadata": {
        "colab": {
          "base_uri": "https://localhost:8080/"
        },
        "id": "BXFXfGghNjtp",
        "outputId": "49c5e2a8-130b-4eb2-a33c-a2592707f3a1"
      },
      "outputs": [
        {
          "output_type": "execute_result",
          "data": {
            "text/plain": [
              "1.834933204416849"
            ]
          },
          "metadata": {},
          "execution_count": 40
        }
      ],
      "source": [
        "#Z-score\n",
        "z = None # Your code here\n",
        "z"
      ]
    },
    {
      "cell_type": "code",
      "execution_count": null,
      "metadata": {
        "colab": {
          "base_uri": "https://localhost:8080/"
        },
        "id": "DOaCt-7aNjtp",
        "outputId": "736ad470-b4ad-4108-a86d-2a13b9928f51"
      },
      "outputs": [
        {
          "output_type": "execute_result",
          "data": {
            "text/plain": [
              "0.06651558707750224"
            ]
          },
          "metadata": {},
          "execution_count": 41
        }
      ],
      "source": [
        "#P-Value\n",
        "pvalue = None # Your code here\n",
        "pvalue"
      ]
    },
    {
      "cell_type": "code",
      "execution_count": null,
      "metadata": {
        "colab": {
          "base_uri": "https://localhost:8080/"
        },
        "id": "p7bSqp5xNjtp",
        "outputId": "def64201-9cdd-45f8-a736-9452054adc5e"
      },
      "outputs": [
        {
          "output_type": "execute_result",
          "data": {
            "text/plain": [
              "0.0741513008689744"
            ]
          },
          "metadata": {},
          "execution_count": 42
        }
      ],
      "source": [
        "#P-Value для t-распределения\n",
        "df = None # Your code here\n",
        "if n_london > n_moscow:\n",
        "    df = n_moscow - 1\n",
        "\n",
        "pvalue_t = None # Your code here\n",
        "pvalue_t"
      ]
    },
    {
      "cell_type": "markdown",
      "metadata": {
        "id": "f0ObFKUnNjtp"
      },
      "source": [
        "<p>или</p>"
      ]
    },
    {
      "cell_type": "code",
      "execution_count": null,
      "metadata": {
        "colab": {
          "base_uri": "https://localhost:8080/"
        },
        "id": "NcY4rN_LNjtp",
        "outputId": "1f15f874-7d56-461b-b7c8-2516cbaefc18"
      },
      "outputs": [
        {
          "output_type": "execute_result",
          "data": {
            "text/plain": [
              "0.07060460987663093"
            ]
          },
          "metadata": {},
          "execution_count": 43
        }
      ],
      "source": [
        "tvalue, pvalue_t = None # Your code here\n",
        "pvalue_t"
      ]
    },
    {
      "cell_type": "markdown",
      "metadata": {
        "id": "JbhFMvLvNjtq"
      },
      "source": [
        "<p>или</p>"
      ]
    },
    {
      "cell_type": "code",
      "execution_count": null,
      "metadata": {
        "colab": {
          "base_uri": "https://localhost:8080/"
        },
        "id": "3U7Do3mANjtq",
        "outputId": "4aebf13b-7846-4c12-97b0-bebefd49da51"
      },
      "outputs": [
        {
          "output_type": "execute_result",
          "data": {
            "text/plain": [
              "0.07060460987663095"
            ]
          },
          "metadata": {},
          "execution_count": 44
        }
      ],
      "source": [
        "tvalue, pvalue_t = None # Your code here\n",
        "pvalue_t"
      ]
    },
    {
      "cell_type": "code",
      "execution_count": null,
      "metadata": {
        "colab": {
          "base_uri": "https://localhost:8080/"
        },
        "id": "VkkNeoV2Njtq",
        "outputId": "ddf7e2a6-4ace-49a4-d012-6592ab160aec"
      },
      "outputs": [
        {
          "output_type": "execute_result",
          "data": {
            "text/plain": [
              "0.0741513008689744"
            ]
          },
          "metadata": {},
          "execution_count": 45
        }
      ],
      "source": [
        "pvalue_t = None # Your code here\n",
        "pvalue_t"
      ]
    },
    {
      "cell_type": "markdown",
      "metadata": {
        "id": "g85uF0h2Njts"
      },
      "source": [
        "<p><b>Проверка гипотезы на соответствие уровню значимости $\\alpha$</b></p>"
      ]
    },
    {
      "cell_type": "code",
      "execution_count": null,
      "metadata": {
        "colab": {
          "base_uri": "https://localhost:8080/"
        },
        "id": "qbSV5ls9Njts",
        "outputId": "e7ab8748-fc9e-4193-b48d-2349f5ea0661"
      },
      "outputs": [
        {
          "output_type": "stream",
          "name": "stdout",
          "text": [
            "alpha <= p-value\n",
            "Принимаем нулевую гипотезу (не отказываемся от нулевой гипотезы)\n"
          ]
        }
      ],
      "source": [
        "if alpha > pvalue:\n",
        "    print(\"alpha > p-value\")\n",
        "    print(\"Отказываемся от нулевую гипотезы в пользу альтернативной\")\n",
        "else:\n",
        "    print(\"alpha <= p-value\")\n",
        "    print(\"Принимаем нулевую гипотезу (не отказываемся от нулевой гипотезы)\")"
      ]
    }
  ],
  "metadata": {
    "kernelspec": {
      "display_name": "Python 3",
      "language": "python",
      "name": "python3"
    },
    "language_info": {
      "codemirror_mode": {
        "name": "ipython",
        "version": 3
      },
      "file_extension": ".py",
      "mimetype": "text/x-python",
      "name": "python",
      "nbconvert_exporter": "python",
      "pygments_lexer": "ipython3",
      "version": "3.4.3"
    },
    "colab": {
      "provenance": []
    }
  },
  "nbformat": 4,
  "nbformat_minor": 0
}