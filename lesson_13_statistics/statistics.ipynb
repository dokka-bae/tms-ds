{
  "cells": [
    {
      "cell_type": "markdown",
      "metadata": {
        "id": "AMvEoLUMNjs8"
      },
      "source": [
        "<p><b>Подключение библиотек и функций</b></p>"
      ]
    },
    {
      "cell_type": "code",
      "execution_count": 1,
      "metadata": {
        "collapsed": true,
        "id": "7Z6HqeLnNjs-"
      },
      "outputs": [],
      "source": [
        "import numpy as np\n",
        "from scipy import stats\n",
        "import matplotlib.pyplot as plt\n",
        "%matplotlib inline"
      ]
    },
    {
      "cell_type": "code",
      "execution_count": 27,
      "metadata": {
        "collapsed": true,
        "id": "kbSFq8huNjtD"
      },
      "outputs": [],
      "source": [
        "def getSE(sigma, n):\n",
        "    return sigma / np.sqrt(n)\n",
        "\n",
        "def getSE2(sigma1, n1, sigma2, n2):\n",
        "    return np.sqrt(sigma1**2 / n1 + sigma2**2 / n2)\n",
        "\n",
        "def getZ(x, mu, se):\n",
        "    return (x - mu) / se\n",
        "\n",
        "def getPrByX(x, mu, se):\n",
        "    return stats.norm.cdf(x, loc=mu, scale=se)\n",
        "\n",
        "def getPrByZ(z):\n",
        "    return stats.norm.cdf(z, loc=0, scale=1)\n",
        "\n",
        "def getZbyPr2Tail(pr):\n",
        "    return stats.norm.ppf((1-pr)/2, loc=0, scale=1)\n",
        "\n",
        "def getZbyPr1Tail(pr):\n",
        "    return stats.norm.ppf(1-pr, loc=0, scale=1)\n",
        "\n",
        "def getPValue1Tail_Norm(z):\n",
        "    return 1 - stats.norm.cdf(z, loc=0, scale=1)\n",
        "\n",
        "def getPValue2Tail_Norm(z):\n",
        "    return 2 * (stats.norm.cdf(-abs(z), loc=0, scale=1))\n",
        "\n",
        "def getPValue2Tail_T(t, df):\n",
        "    return 2 * stats.t.cdf(-abs(t), df=df)\n",
        "\n",
        "def getPValue1Tail_T(t, df):\n",
        "    return 1 - stats.t.cdf(t, df=df)"
      ]
    },
    {
      "cell_type": "markdown",
      "metadata": {
        "id": "FKzKk_rRNjtI"
      },
      "source": [
        "<p>Создание генеральных совокупностей</p>"
      ]
    },
    {
      "cell_type": "code",
      "execution_count": 3,
      "metadata": {
        "collapsed": true,
        "id": "BYeufg7xNjtL"
      },
      "outputs": [],
      "source": [
        "mu1 = 70\n",
        "sigma1 = 30\n",
        "population1 = stats.norm.rvs(size=10000, loc=mu1, scale=sigma1)"
      ]
    },
    {
      "cell_type": "code",
      "execution_count": 4,
      "metadata": {
        "collapsed": true,
        "id": "N0xtI0-pNjtQ"
      },
      "outputs": [],
      "source": [
        "mu2 = 60\n",
        "sigma2 = 20\n",
        "population2 = stats.norm.rvs(size=10000, loc=mu2, scale=sigma2)"
      ]
    },
    {
      "cell_type": "code",
      "execution_count": 5,
      "metadata": {
        "collapsed": true,
        "id": "YY86I0d8NjtS"
      },
      "outputs": [],
      "source": [
        "mu3 = 2\n",
        "sigma3 = 2\n",
        "diff = stats.norm.rvs(size=10000, loc=mu3, scale=sigma3)\n",
        "population3 = list(zip(population1, population1 + diff))"
      ]
    },
    {
      "cell_type": "markdown",
      "metadata": {
        "id": "gTp2TACZNjtW"
      },
      "source": [
        "<p><b><i>Выборка</i></b></p>"
      ]
    },
    {
      "cell_type": "markdown",
      "metadata": {
        "id": "DMQ_-gVpNjtW"
      },
      "source": [
        "<p>Исходные данные</p>"
      ]
    },
    {
      "cell_type": "code",
      "execution_count": 6,
      "metadata": {
        "colab": {
          "base_uri": "https://localhost:8080/"
        },
        "id": "LbDK6wcYNjtW",
        "outputId": "467cc94c-9bfa-4f72-e412-4b8735c94c32"
      },
      "outputs": [
        {
          "data": {
            "text/plain": [
              "array([105.53136754,  79.6907848 ,  69.90648131,  86.71255662,\n",
              "        87.04244403,  73.75280147,  83.79178721,  56.65395523,\n",
              "        41.18353851,  73.51169843, -32.63284905,  93.54135332,\n",
              "        77.74396736,  24.89972895,  58.02862815,  45.4235892 ,\n",
              "       109.90735321,  46.69052225,  56.13297526,  81.46913807,\n",
              "        85.59099142,  33.79635544,  58.34804135, 117.48329447,\n",
              "        72.37851504,  98.8834888 ,  72.09533255,  47.65162535,\n",
              "        56.16547511, 142.49939931,  81.07939422, 142.19378089,\n",
              "        54.72770264, 153.09031315,  85.97995757,  64.06494566,\n",
              "        53.81614448,  90.24388023,  99.71813754,  80.03558397])"
            ]
          },
          "execution_count": 6,
          "metadata": {},
          "output_type": "execute_result"
        }
      ],
      "source": [
        "n = 40\n",
        "sample_2015 = np.random.choice(population1, n, replace=False)\n",
        "sample_2015"
      ]
    },
    {
      "cell_type": "markdown",
      "metadata": {
        "id": "wJtW8otANjtX"
      },
      "source": [
        "<p>Статистики выборки</p>"
      ]
    },
    {
      "cell_type": "code",
      "execution_count": 7,
      "metadata": {
        "colab": {
          "base_uri": "https://localhost:8080/"
        },
        "id": "HVVBEmFuNjtX",
        "outputId": "9084586b-42fe-421e-e1e9-84a9904096f3"
      },
      "outputs": [
        {
          "name": "stdout",
          "output_type": "stream",
          "text": [
            "75.22060452636988\n",
            "1090.0884031894052\n",
            "33.01648683899311\n"
          ]
        }
      ],
      "source": [
        "#Среднее значение\n",
        "x_bar = sample_2015.mean()\n",
        "print(x_bar)\n",
        "\n",
        "#Выборочная дисперсия\n",
        "var_2015 = sample_2015.var()\n",
        "print(var_2015)\n",
        "\n",
        "#Стандартное отклонение (несмещенное)\n",
        "s_2015 = sample_2015.std()\n",
        "print(s_2015)"
      ]
    },
    {
      "cell_type": "markdown",
      "metadata": {
        "id": "xGtE_jXqNjtY"
      },
      "source": [
        "<p><b><i>Доверительный интервал</i></b></p>"
      ]
    },
    {
      "cell_type": "code",
      "execution_count": 8,
      "metadata": {
        "collapsed": true,
        "id": "qpKgezxANjtY"
      },
      "outputs": [],
      "source": [
        "#Уровни доверия: 95%, 90%, 80%\n",
        "prs = np.array([0.95, 0.9, 0.8])"
      ]
    },
    {
      "cell_type": "code",
      "execution_count": 12,
      "metadata": {
        "colab": {
          "base_uri": "https://localhost:8080/"
        },
        "id": "pn6EKxuMNjtZ",
        "outputId": "91f2b3cd-7514-46c7-b67f-b8a076c71856"
      },
      "outputs": [
        {
          "data": {
            "text/plain": [
              "5.220364937409561"
            ]
          },
          "execution_count": 12,
          "metadata": {},
          "output_type": "execute_result"
        }
      ],
      "source": [
        "#Стандартная ошибка\n",
        "se = getSE(np.sqrt(var_2015),len(sample_2015))\n",
        "se"
      ]
    },
    {
      "cell_type": "code",
      "execution_count": 42,
      "metadata": {
        "colab": {
          "base_uri": "https://localhost:8080/"
        },
        "id": "Er4IMmsXNjta",
        "outputId": "f7cb7f55-3e4b-4b15-8404-36f37b74f61a"
      },
      "outputs": [
        {
          "name": "stdout",
          "output_type": "stream",
          "text": [
            "Уровень доверия 95%: (64.988877, 85.452332)\n",
            "Уровень доверия 90%: (66.633868, 83.807341)\n",
            "Уровень доверия 80%: (68.530438, 81.910771)\n"
          ]
        }
      ],
      "source": [
        "#Доверительный интервал\n",
        "lowers, uppers = [], []\n",
        "for pr in prs:\n",
        "    lowers.append(sample_2015.mean()+getZbyPr2Tail(pr)*se)\n",
        "    uppers.append(sample_2015.mean()-getZbyPr2Tail(pr)*se)\n",
        "for i in range(len(prs)):\n",
        "    print(\"Уровень доверия %i%%: (%f, %f)\" % (prs[i]*100, lowers[i], uppers[i]))"
      ]
    },
    {
      "cell_type": "code",
      "execution_count": 44,
      "metadata": {
        "colab": {
          "base_uri": "https://localhost:8080/"
        },
        "id": "GAmN7ihONjta",
        "outputId": "a33c0548-dc6f-484f-cb74-d76149edf2e0"
      },
      "outputs": [
        {
          "name": "stdout",
          "output_type": "stream",
          "text": [
            "t-распределение\n",
            "Уровень доверия 95%: (64.661420, 85.779789)\n",
            "Уровень доверия 90%: (66.424942, 84.016268)\n",
            "Уровень доверия 80%: (68.415135, 82.026074)\n"
          ]
        }
      ],
      "source": [
        "#Доверительный интервал для t-распределения (при небольших n)\n",
        "lowers_t, uppers_t = [], []\n",
        "for pr in prs:\n",
        "    t = stats.t.ppf((1-pr)/2,len(sample_2015)-1)\n",
        "    lowers_t.append(sample_2015.mean()+t*se)\n",
        "    uppers_t.append(sample_2015.mean()-t*se)\n",
        "\n",
        "print(\"t-распределение\")\n",
        "for i in range(len(prs)):\n",
        "    print(\"Уровень доверия %i%%: (%f, %f)\" % (prs[i]*100, lowers_t[i], uppers_t[i]))"
      ]
    },
    {
      "cell_type": "markdown",
      "metadata": {
        "id": "_dgCk0Z9Njta"
      },
      "source": [
        "<p>или</p>"
      ]
    },
    {
      "cell_type": "code",
      "execution_count": 48,
      "metadata": {
        "colab": {
          "base_uri": "https://localhost:8080/"
        },
        "id": "T5pBlgBhNjta",
        "outputId": "47abc1b3-4472-4a97-c5a6-e28f9c255bc7"
      },
      "outputs": [
        {
          "data": {
            "text/plain": [
              "[1.959963984540054, 1.6448536269514729, 1.2815515655446004]"
            ]
          },
          "execution_count": 48,
          "metadata": {},
          "output_type": "execute_result"
        }
      ],
      "source": [
        "#z-значения для двустороннего интервала\n",
        "zs = [abs(getZbyPr2Tail(pr)) for pr in prs]\n",
        "zs"
      ]
    },
    {
      "cell_type": "code",
      "execution_count": 49,
      "metadata": {
        "colab": {
          "base_uri": "https://localhost:8080/"
        },
        "id": "oCfrqYiDNjtb",
        "outputId": "142536bb-353f-4fe1-b2e5-b734e72cf344"
      },
      "outputs": [
        {
          "data": {
            "text/plain": [
              "[10.231727263478433, 8.586736201308414, 6.690166858251362]"
            ]
          },
          "execution_count": 49,
          "metadata": {},
          "output_type": "execute_result"
        }
      ],
      "source": [
        "#Предельная ошибка\n",
        "delta = [z*se for z in zs]\n",
        "delta"
      ]
    },
    {
      "cell_type": "code",
      "execution_count": 51,
      "metadata": {
        "colab": {
          "base_uri": "https://localhost:8080/"
        },
        "id": "qKR4lFwQNjtb",
        "outputId": "ee11a3f7-7b57-4797-ac07-725d4b5f008f"
      },
      "outputs": [
        {
          "name": "stdout",
          "output_type": "stream",
          "text": [
            "Уровень доверия 95%: (64.988877, 85.452332)\n",
            "Уровень доверия 90%: (66.633868, 83.807341)\n",
            "Уровень доверия 80%: (68.530438, 81.910771)\n"
          ]
        }
      ],
      "source": [
        "#Доверительный интервал\n",
        "lowers = []\n",
        "uppers = []\n",
        "for d in delta:\n",
        "    lowers.append(sample_2015.mean()-d)\n",
        "    uppers.append(sample_2015.mean()+d)\n",
        "\n",
        "for i in range(len(prs)):\n",
        "    print(\"Уровень доверия %i%%: (%f, %f)\" % (prs[i]*100, lowers[i], uppers[i]))"
      ]
    },
    {
      "cell_type": "markdown",
      "metadata": {
        "id": "XHk93H7MNjtb"
      },
      "source": [
        "<p>$$H_0: \\mu_{2014}=\\mu_{2015}$$<p>\n",
        "<p>$$H_A: \\mu_{2014} \\neq \\mu_{2015}$$<p>"
      ]
    },
    {
      "cell_type": "markdown",
      "metadata": {
        "id": "r5M3vaFxNjtb"
      },
      "source": [
        "<p><b><i>Выборка</i></b></p>"
      ]
    },
    {
      "cell_type": "markdown",
      "metadata": {
        "id": "LMl5AUPKNjtb"
      },
      "source": [
        "<p>Исходные данные</p>"
      ]
    },
    {
      "cell_type": "code",
      "execution_count": 55,
      "metadata": {
        "colab": {
          "base_uri": "https://localhost:8080/"
        },
        "id": "chyMyFGeNjtb",
        "outputId": "59ff95eb-fb46-4e51-b0f7-294ee42f8d8b"
      },
      "outputs": [
        {
          "data": {
            "text/plain": [
              "array([ 44.45990163, -11.1153643 ,  58.07514852,  53.96205214,\n",
              "        17.21181976,  35.5511113 ,  80.72041478,  65.41519704,\n",
              "        68.96150403,  78.76541244,   5.66071291, 119.1263839 ,\n",
              "        91.29520994,  63.49225166,  29.57302202,  98.13573426,\n",
              "        74.06048554,  44.74613237,  78.10628305,  76.45461862,\n",
              "        37.23024965,  58.96913942,  63.97413949,  89.38229221,\n",
              "        75.03304709,  56.41913727,  70.81799124,   1.45739406,\n",
              "        57.84605828, 104.34290773,  48.00360972,  56.0228305 ,\n",
              "       113.9452764 ,  67.11419237,  95.56636439,  50.10764455,\n",
              "        61.92474549,  33.74812166,  74.48697327,  72.97783511])"
            ]
          },
          "execution_count": 55,
          "metadata": {},
          "output_type": "execute_result"
        }
      ],
      "source": [
        "mu_2014 = 65\n",
        "n = 40\n",
        "alpha = 0.05 #уровень значимости\n",
        "sample_2015 = np.random.choice(population1, n, replace=False)\n",
        "sample_2015"
      ]
    },
    {
      "cell_type": "code",
      "execution_count": 65,
      "metadata": {
        "colab": {
          "base_uri": "https://localhost:8080/"
        },
        "id": "nXY7zISkNjtb",
        "outputId": "cb143d6d-48d5-408e-e710-61cc0ec47724"
      },
      "outputs": [
        {
          "name": "stdout",
          "output_type": "stream",
          "text": [
            "75.22060452636988\n",
            "28.33681471885317\n",
            "4.480443807287994\n"
          ]
        }
      ],
      "source": [
        "#Среднее значение\n",
        "x_bar_2015 = sample_2015.mean()\n",
        "print(x_bar)\n",
        "\n",
        "#Стандартное отклонение (несмещенное)\n",
        "s_2015 = sample_2015.std()\n",
        "print(s_2015)\n",
        "\n",
        "#Стандартная ошибка\n",
        "se = getSE(sample_2015.std(),len(sample_2015))\n",
        "print(se)"
      ]
    },
    {
      "cell_type": "markdown",
      "metadata": {
        "id": "ab4I0PKINjtb"
      },
      "source": [
        "<p><b>Проверка гипотезы</b></p>"
      ]
    },
    {
      "cell_type": "code",
      "execution_count": 66,
      "metadata": {
        "colab": {
          "base_uri": "https://localhost:8080/"
        },
        "id": "olyMwb-3Njtc",
        "outputId": "4a262bfc-0402-4cd0-ae8a-3556ba49d39c"
      },
      "outputs": [
        {
          "data": {
            "text/plain": [
              "-0.7698568735114742"
            ]
          },
          "execution_count": 66,
          "metadata": {},
          "output_type": "execute_result"
        }
      ],
      "source": [
        "#Z-score\n",
        "z = getZ(x_bar_2015,mu_2014,se)\n",
        "z"
      ]
    },
    {
      "cell_type": "code",
      "execution_count": 68,
      "metadata": {
        "colab": {
          "base_uri": "https://localhost:8080/"
        },
        "id": "CC7K7oYBNjtc",
        "outputId": "e7cfdf81-f77c-4605-9b8c-ef2393fab3c5"
      },
      "outputs": [
        {
          "data": {
            "text/plain": [
              "0.44138479849514234"
            ]
          },
          "execution_count": 68,
          "metadata": {},
          "output_type": "execute_result"
        }
      ],
      "source": [
        "#P-Value\n",
        "pvalue = getPValue2Tail_Norm(z)\n",
        "pvalue"
      ]
    },
    {
      "cell_type": "code",
      "execution_count": 69,
      "metadata": {
        "colab": {
          "base_uri": "https://localhost:8080/"
        },
        "id": "mtymTRooNjtc",
        "outputId": "39c65136-d6a9-4961-a2c1-6a7a95a98f84"
      },
      "outputs": [
        {
          "data": {
            "text/plain": [
              "0.45172259119713765"
            ]
          },
          "execution_count": 69,
          "metadata": {},
          "output_type": "execute_result"
        }
      ],
      "source": [
        "#P-Value для t-распределения\n",
        "df = n - 1 #степень свободы\n",
        "se = getSE(sample_2015.std(ddof=1),n)\n",
        "t = getZ(sample_2015.mean(),mu_2014,se)\n",
        "pvalue_t = getPValue2Tail_T(t,df)\n",
        "pvalue_t"
      ]
    },
    {
      "cell_type": "markdown",
      "metadata": {
        "id": "_1aV9j4ONjte"
      },
      "source": [
        "<p>или</p>"
      ]
    },
    {
      "cell_type": "code",
      "execution_count": 71,
      "metadata": {
        "colab": {
          "base_uri": "https://localhost:8080/"
        },
        "id": "KZSTlJPUNjtj",
        "outputId": "8c93883c-1803-45dd-e00f-1e25bbd04b0a"
      },
      "outputs": [
        {
          "data": {
            "text/plain": [
              "(-0.7601727537543952, 0.45172259119713765)"
            ]
          },
          "execution_count": 71,
          "metadata": {},
          "output_type": "execute_result"
        }
      ],
      "source": [
        "tvalue, pvalue_t = stats.ttest_1samp(sample_2015, mu_2014)\n",
        "tvalue,pvalue_t"
      ]
    },
    {
      "cell_type": "code",
      "execution_count": 72,
      "metadata": {
        "colab": {
          "base_uri": "https://localhost:8080/"
        },
        "id": "Jb_cGlH6Njtj",
        "outputId": "9639e4e8-c9c1-4157-b624-a1c87e3263a5"
      },
      "outputs": [
        {
          "data": {
            "text/plain": [
              "0.45172259119713765"
            ]
          },
          "execution_count": 72,
          "metadata": {},
          "output_type": "execute_result"
        }
      ],
      "source": [
        "pvalue_t = 2 * stats.t.cdf(-abs(tvalue),df)\n",
        "pvalue_t"
      ]
    },
    {
      "cell_type": "markdown",
      "metadata": {
        "id": "glSY7N0MNjtk"
      },
      "source": [
        "<p><b>Проверка гипотезы на соответствие уровню значимости $\\alpha$</b></p>"
      ]
    },
    {
      "cell_type": "code",
      "execution_count": 73,
      "metadata": {
        "colab": {
          "base_uri": "https://localhost:8080/"
        },
        "id": "joaQRpVsNjtk",
        "outputId": "41bbf021-eace-4063-c907-df16e542dcd4"
      },
      "outputs": [
        {
          "name": "stdout",
          "output_type": "stream",
          "text": [
            "alpha <= p-value\n",
            "Принимаем нулевую гипотезу (не отказываемся от нулевой гипотезы)\n"
          ]
        }
      ],
      "source": [
        "if alpha > pvalue:\n",
        "    print(\"alpha > p-value\")\n",
        "    print(\"Отказываемся от нулевую гипотезы в пользу альтернативной\")\n",
        "else:\n",
        "    print(\"alpha <= p-value\")\n",
        "    print(\"Принимаем нулевую гипотезу (не отказываемся от нулевой гипотезы)\")"
      ]
    },
    {
      "cell_type": "markdown",
      "metadata": {
        "id": "6KMuLFDINjtk"
      },
      "source": [
        "<p><b><i>Выборка</i></b></p>"
      ]
    },
    {
      "cell_type": "markdown",
      "metadata": {
        "id": "37YSzjQFNjtk"
      },
      "source": [
        "<p>Исходные данные</p>"
      ]
    },
    {
      "cell_type": "code",
      "execution_count": 76,
      "metadata": {
        "collapsed": true,
        "id": "U7ANV308Njtl"
      },
      "outputs": [],
      "source": [
        "alpha = 0.05 #уровень значимости"
      ]
    },
    {
      "cell_type": "code",
      "execution_count": 77,
      "metadata": {
        "colab": {
          "base_uri": "https://localhost:8080/"
        },
        "id": "msdXF27MNjtl",
        "outputId": "ce7b4f70-5a5f-49a2-c244-8cf664db7d18"
      },
      "outputs": [
        {
          "data": {
            "text/plain": [
              "array([[ 84.00469378,  89.05698686],\n",
              "       [ 82.16476959,  81.59722861],\n",
              "       [ 43.72106622,  42.08918964],\n",
              "       [ 76.98227604,  80.78891458],\n",
              "       [ 71.28291116,  72.81315891],\n",
              "       [ 44.01000132,  45.68450062],\n",
              "       [ 27.13551175,  28.05682816],\n",
              "       [ 25.88728551,  30.78651255],\n",
              "       [ 72.01556902,  73.91481088],\n",
              "       [ 91.59397348,  92.0319972 ],\n",
              "       [ 79.71095479,  81.639429  ],\n",
              "       [ 41.11876423,  42.94204021],\n",
              "       [134.35339295, 133.56396672],\n",
              "       [ 68.98646689,  68.60277915],\n",
              "       [ 78.57310761,  84.35569169],\n",
              "       [ 52.60269626,  56.61047215],\n",
              "       [ 30.96561848,  34.00414567],\n",
              "       [ 79.84283045,  85.52142713],\n",
              "       [ 50.10168833,  51.53911163],\n",
              "       [ 76.78766759,  81.16724056],\n",
              "       [ 61.19138594,  64.88261573],\n",
              "       [ 81.64324495,  85.61582284],\n",
              "       [ 92.8836649 ,  96.11502888],\n",
              "       [105.7525099 , 107.5803945 ],\n",
              "       [114.83394097, 119.0766586 ],\n",
              "       [ 81.56875376,  82.33828157],\n",
              "       [102.23523026, 103.50276144],\n",
              "       [ 67.47311967,  68.70271664],\n",
              "       [ 19.87754273,  20.38090575],\n",
              "       [ 15.22435502,  14.13597369],\n",
              "       [ 50.20350777,  48.12885987],\n",
              "       [ 54.86657338,  55.91545585],\n",
              "       [ 42.00533367,  43.34297211],\n",
              "       [ 38.41124014,  40.42607607],\n",
              "       [ 61.6042873 ,  62.19580692],\n",
              "       [ 54.84553487,  54.86920615],\n",
              "       [ 20.72661317,  22.41115104],\n",
              "       [ 56.26995689,  53.33980835],\n",
              "       [ 74.11749989,  75.56296147],\n",
              "       [ 25.76217919,  27.48835396]])"
            ]
          },
          "execution_count": 77,
          "metadata": {},
          "output_type": "execute_result"
        }
      ],
      "source": [
        "import random\n",
        "\n",
        "n_items = 40\n",
        "sample_items = np.array(random.sample(population3, n_items))\n",
        "sample_items"
      ]
    },
    {
      "cell_type": "code",
      "execution_count": 78,
      "metadata": {
        "colab": {
          "base_uri": "https://localhost:8080/"
        },
        "id": "Qc4mUTOxNjtl",
        "outputId": "50c41534-f573-4d3a-f8f3-ef0ecd6c896a"
      },
      "outputs": [
        {
          "data": {
            "text/plain": [
              "array([-5.05229308,  0.56754097,  1.63187658, -3.80663854, -1.53024775,\n",
              "       -1.6744993 , -0.92131641, -4.89922704, -1.89924186, -0.43802372,\n",
              "       -1.92847421, -1.82327598,  0.78942623,  0.38368774, -5.78258408,\n",
              "       -4.00777589, -3.03852719, -5.67859668, -1.4374233 , -4.37957297,\n",
              "       -3.69122979, -3.97257789, -3.23136399, -1.8278846 , -4.24271763,\n",
              "       -0.76952781, -1.26753119, -1.22959697, -0.50336302,  1.08838133,\n",
              "        2.0746479 , -1.04888247, -1.33763844, -2.01483593, -0.59151963,\n",
              "       -0.02367128, -1.68453787,  2.93014855, -1.44546158, -1.72617477])"
            ]
          },
          "execution_count": 78,
          "metadata": {},
          "output_type": "execute_result"
        }
      ],
      "source": [
        "sample_diff = sample_items[:,0] - sample_items[:,1]\n",
        "sample_diff"
      ]
    },
    {
      "cell_type": "code",
      "execution_count": 79,
      "metadata": {
        "colab": {
          "base_uri": "https://localhost:8080/"
        },
        "id": "I0XyyqglNjtl",
        "outputId": "6e603b19-878e-4ab9-f3bd-ef9d3299d21b"
      },
      "outputs": [
        {
          "name": "stdout",
          "output_type": "stream",
          "text": [
            "x_bar_diff = -1.7360130890297856\n",
            "s_diff = 2.0659293499867992\n",
            "se_diff = 0.3266521115474718\n"
          ]
        }
      ],
      "source": [
        "#Среднее значение\n",
        "x_bar_diff = sample_diff.mean()\n",
        "print(\"x_bar_diff =\", x_bar_diff)\n",
        "\n",
        "#Стандартное отклонение (несмещенное)\n",
        "s_diff = sample_diff.std()\n",
        "print(\"s_diff =\", s_diff)\n",
        "\n",
        "#Стандартная ошибка\n",
        "se_diff = getSE(sample_diff.std(),len(sample_diff))\n",
        "print(\"se_diff =\", se_diff)"
      ]
    },
    {
      "cell_type": "markdown",
      "metadata": {
        "id": "Nv43GPS4Njtm"
      },
      "source": [
        "<p><b>Проверка гипотезы</b></p>"
      ]
    },
    {
      "cell_type": "markdown",
      "metadata": {
        "id": "b-G3vn6fNjtm"
      },
      "source": [
        "<p>$$H_0: \\mu_{diff}=0$$<p>\n",
        "<p>$$H_A: \\mu_{diff} \\neq 0$$<p>"
      ]
    },
    {
      "cell_type": "code",
      "execution_count": 80,
      "metadata": {
        "colab": {
          "base_uri": "https://localhost:8080/"
        },
        "id": "j7KWzK3ENjtm",
        "outputId": "0208c047-96a0-4f6d-b778-23006d1fc0a8"
      },
      "outputs": [
        {
          "data": {
            "text/plain": [
              "-0.38259057603151797"
            ]
          },
          "execution_count": 80,
          "metadata": {},
          "output_type": "execute_result"
        }
      ],
      "source": [
        "#Z-score\n",
        "z = getZ(x_bar_diff,0,se)\n",
        "z"
      ]
    },
    {
      "cell_type": "code",
      "execution_count": 81,
      "metadata": {
        "colab": {
          "base_uri": "https://localhost:8080/"
        },
        "id": "p6wfUY73Njtm",
        "outputId": "16da966f-06fe-411f-bf1e-279b34b4f4ae"
      },
      "outputs": [
        {
          "data": {
            "text/plain": [
              "0.7020233588238028"
            ]
          },
          "execution_count": 81,
          "metadata": {},
          "output_type": "execute_result"
        }
      ],
      "source": [
        "#P-Value\n",
        "pvalue = getPValue2Tail_Norm(z)\n",
        "pvalue"
      ]
    },
    {
      "cell_type": "code",
      "execution_count": 84,
      "metadata": {
        "colab": {
          "base_uri": "https://localhost:8080/"
        },
        "id": "03qgDD9_Njtm",
        "outputId": "b8f27c9e-ea7f-4432-e647-7395431892a7"
      },
      "outputs": [
        {
          "data": {
            "text/plain": [
              "(-5.247710075978013, 5.716073144810502e-06)"
            ]
          },
          "execution_count": 84,
          "metadata": {},
          "output_type": "execute_result"
        }
      ],
      "source": [
        "#P-Value для t-распределения\n",
        "df = len(sample_diff)-1\n",
        "se = getSE(sample_diff.std(ddof=1),n)\n",
        "t = getZ(x_bar_diff,0,se)\n",
        "pvalue_t = getPValue2Tail_T(t,df)\n",
        "t,pvalue_t"
      ]
    },
    {
      "cell_type": "markdown",
      "metadata": {
        "id": "nBiVWhsSNjtn"
      },
      "source": [
        "<p>или</p>"
      ]
    },
    {
      "cell_type": "code",
      "execution_count": 83,
      "metadata": {
        "colab": {
          "base_uri": "https://localhost:8080/"
        },
        "id": "TwB3U1mtNjtn",
        "outputId": "201d272f-d571-431b-bc6f-627b1a262c78"
      },
      "outputs": [
        {
          "name": "stdout",
          "output_type": "stream",
          "text": [
            "t-value = -5.247710075978012\n",
            "p-value = 5.7160731448105235e-06\n"
          ]
        }
      ],
      "source": [
        "tvalue, pvalue_t = stats.ttest_rel(sample_items[:,0], sample_items[:,1])\n",
        "print(\"t-value =\", tvalue)\n",
        "print(\"p-value =\", pvalue_t)"
      ]
    },
    {
      "cell_type": "code",
      "execution_count": 85,
      "metadata": {
        "colab": {
          "base_uri": "https://localhost:8080/"
        },
        "id": "3OqwaYqINjtn",
        "outputId": "0696f4b3-f749-4ee5-a49d-0691a6b7d7e1"
      },
      "outputs": [
        {
          "data": {
            "text/plain": [
              "5.7160731448105235e-06"
            ]
          },
          "execution_count": 85,
          "metadata": {},
          "output_type": "execute_result"
        }
      ],
      "source": [
        "pvalue_t = 2 * stats.t.cdf(-abs(tvalue), df)\n",
        "pvalue_t"
      ]
    },
    {
      "cell_type": "markdown",
      "metadata": {
        "id": "y7WMh5vANjtn"
      },
      "source": [
        "<p><b>Проверка гипотезы на соответствие уровню значимости $\\alpha$</b></p>"
      ]
    },
    {
      "cell_type": "code",
      "execution_count": 86,
      "metadata": {
        "colab": {
          "base_uri": "https://localhost:8080/"
        },
        "id": "dZMA4lRINjto",
        "outputId": "281df22a-978c-4ca0-baf0-918635066ed1"
      },
      "outputs": [
        {
          "name": "stdout",
          "output_type": "stream",
          "text": [
            "alpha <= p-value\n",
            "Принимаем нулевую гипотезу (не отказываемся от нулевой гипотезы)\n"
          ]
        }
      ],
      "source": [
        "if alpha > pvalue:\n",
        "    print(\"alpha > p-value\")\n",
        "    print(\"Отказываемся от нулевую гипотезы в пользу альтернативной\")\n",
        "else:\n",
        "    print(\"alpha <= p-value\")\n",
        "    print(\"Принимаем нулевую гипотезу (не отказываемся от нулевой гипотезы)\")"
      ]
    },
    {
      "cell_type": "markdown",
      "metadata": {
        "id": "95GL-rHdNjto"
      },
      "source": [
        "<p><b><i>Выборка</i></b></p>"
      ]
    },
    {
      "cell_type": "markdown",
      "metadata": {
        "id": "OLeC6fsZNjto"
      },
      "source": [
        "<p>Исходные данные</p>"
      ]
    },
    {
      "cell_type": "code",
      "execution_count": 88,
      "metadata": {
        "collapsed": true,
        "id": "wDC36T3-Njto"
      },
      "outputs": [],
      "source": [
        "alpha = 0.05 #уровень значимости"
      ]
    },
    {
      "cell_type": "code",
      "execution_count": 89,
      "metadata": {
        "colab": {
          "base_uri": "https://localhost:8080/"
        },
        "id": "r4UMdfjbNjto",
        "outputId": "6f5257e3-4fb9-4a9a-fd1a-9f60eeca70dd"
      },
      "outputs": [
        {
          "data": {
            "text/plain": [
              "array([ 43.33707286,  34.59966124,  27.12876111,  80.79093155,\n",
              "        77.80085673,   9.52306341,  86.66671683,  72.14438563,\n",
              "        27.60525757,  79.8023942 ,  51.51526747,  22.21580893,\n",
              "        23.05534917,  34.01714433,  64.54766163,  46.91357504,\n",
              "        96.74829709,  61.27882118,  59.18551451,  30.11371152,\n",
              "       122.11152213,  39.33634689,  64.18163241, 124.93446828,\n",
              "        47.45328883,  11.23074822, 101.41208139, 114.83394097,\n",
              "       155.47085484,  63.28324226,  77.32124117,  55.66603751,\n",
              "       110.99229553,  41.9474302 ,  56.91743259,  93.09940236,\n",
              "        80.61763703,  56.63629335, 114.8987772 , 107.89081446])"
            ]
          },
          "execution_count": 89,
          "metadata": {},
          "output_type": "execute_result"
        }
      ],
      "source": [
        "n_london = 40\n",
        "sample_london = np.random.choice(population1, n_london, replace=False)\n",
        "sample_london"
      ]
    },
    {
      "cell_type": "code",
      "execution_count": 90,
      "metadata": {
        "colab": {
          "base_uri": "https://localhost:8080/"
        },
        "id": "J-3u7B1pNjto",
        "outputId": "24c13e79-9bf5-48d7-d549-0ae9f247514f"
      },
      "outputs": [
        {
          "data": {
            "text/plain": [
              "array([ 50.27703975,  58.43525331,  47.36494725,  75.61781085,\n",
              "        41.60511586,  86.17477432,  40.25103117,  31.85992475,\n",
              "        24.32574237,  80.32940007,  62.55529613,  60.63903666,\n",
              "        42.67909038,  54.37931907,  55.57846784,  48.58970482,\n",
              "        38.91968427,  82.45773376,  97.9026165 ,  60.69468135,\n",
              "        68.21859493,  34.78841535,  39.28649043,  47.08257295,\n",
              "        53.44553724,  42.46347022,  36.80542551,  87.52948999,\n",
              "        78.79294172,  57.09148128,  42.24055101,  96.22293787,\n",
              "        86.74882771,  72.84187376,  48.86457974,  80.98828461,\n",
              "        35.30382306,  46.03146857, 107.30262423,  75.69479656,\n",
              "        60.77911391,  47.98184941,  40.2107153 ,  77.24420587,\n",
              "        43.85146687,  29.16359402,  40.32942005,  28.98758864,\n",
              "        55.2523416 ,  73.45802922])"
            ]
          },
          "execution_count": 90,
          "metadata": {},
          "output_type": "execute_result"
        }
      ],
      "source": [
        "n_moscow = 50\n",
        "sample_moscow = np.random.choice(population2, n_moscow, replace=False)\n",
        "sample_moscow"
      ]
    },
    {
      "cell_type": "code",
      "execution_count": 91,
      "metadata": {
        "colab": {
          "base_uri": "https://localhost:8080/"
        },
        "id": "qIYY37EANjtp",
        "outputId": "982ba366-4707-420e-a9cc-d4e5757beac8"
      },
      "outputs": [
        {
          "name": "stdout",
          "output_type": "stream",
          "text": [
            "x_bar_london = 66.73064349015172\n",
            "x_bar_moscow = 57.51278364254423\n",
            "s_london = 34.19124556120958\n",
            "s_moscow = 20.111223200185716\n",
            "se_london_moscow = 6.108621595566966\n"
          ]
        }
      ],
      "source": [
        "#Среднее значение\n",
        "x_bar_london = sample_london.mean()\n",
        "x_bar_moscow = sample_moscow.mean()\n",
        "print(\"x_bar_london =\", x_bar_london)\n",
        "print(\"x_bar_moscow =\", x_bar_moscow)\n",
        "\n",
        "#Стандартное отклонение (несмещенное)\n",
        "s_london = sample_london.std()\n",
        "s_moscow = sample_moscow.std()\n",
        "print(\"s_london =\", s_london)\n",
        "print(\"s_moscow =\", s_moscow)\n",
        "\n",
        "#Стандартная ошибка\n",
        "se_london_moscow = getSE2(s_london,len(sample_london),s_moscow,len(sample_moscow))\n",
        "print(\"se_london_moscow =\", se_london_moscow)"
      ]
    },
    {
      "cell_type": "markdown",
      "metadata": {
        "id": "0SZCwXx9Njtp"
      },
      "source": [
        "<p><b>Проверка гипотезы</b></p>"
      ]
    },
    {
      "cell_type": "markdown",
      "metadata": {
        "id": "xznLEiitNjtp"
      },
      "source": [
        "<p>$$H_0: \\mu_{treated}-\\mu_{control}=0$$<p>\n",
        "<p>$$H_A: \\mu_{treated}-\\mu_{control} \\neq 0$$<p>"
      ]
    },
    {
      "cell_type": "code",
      "execution_count": 92,
      "metadata": {
        "colab": {
          "base_uri": "https://localhost:8080/"
        },
        "id": "BXFXfGghNjtp",
        "outputId": "49c5e2a8-130b-4eb2-a33c-a2592707f3a1"
      },
      "outputs": [
        {
          "data": {
            "text/plain": [
              "1.508991791912091"
            ]
          },
          "execution_count": 92,
          "metadata": {},
          "output_type": "execute_result"
        }
      ],
      "source": [
        "#Z-score\n",
        "z = getZ(x_bar_london-x_bar_moscow,0,se_london_moscow)\n",
        "z"
      ]
    },
    {
      "cell_type": "code",
      "execution_count": 93,
      "metadata": {
        "colab": {
          "base_uri": "https://localhost:8080/"
        },
        "id": "DOaCt-7aNjtp",
        "outputId": "736ad470-b4ad-4108-a86d-2a13b9928f51"
      },
      "outputs": [
        {
          "data": {
            "text/plain": [
              "0.13130088038471968"
            ]
          },
          "execution_count": 93,
          "metadata": {},
          "output_type": "execute_result"
        }
      ],
      "source": [
        "#P-Value\n",
        "pvalue = getPValue2Tail_Norm(z)\n",
        "pvalue"
      ]
    },
    {
      "cell_type": "code",
      "execution_count": 148,
      "metadata": {
        "colab": {
          "base_uri": "https://localhost:8080/"
        },
        "id": "p7bSqp5xNjtp",
        "outputId": "def64201-9cdd-45f8-a736-9452054adc5e"
      },
      "outputs": [
        {
          "data": {
            "text/plain": [
              "(1.4908346848386829, 0.1424147898069532)"
            ]
          },
          "execution_count": 148,
          "metadata": {},
          "output_type": "execute_result"
        }
      ],
      "source": [
        "#P-Value для t-распределения\n",
        "df = 0\n",
        "se = getSE2(sample_london.std(ddof=1),len(sample_london),sample_moscow.std(ddof=1),len(sample_moscow))\n",
        "t = getZ(x_bar_london-x_bar_moscow,0,se)\n",
        "if len(sample_london) < len(sample_moscow):\n",
        "    df = len(sample_moscow) - 1\n",
        "else:\n",
        "    df = len(sample_london) - 1\n",
        "\n",
        "\n",
        "pvalue_t = getPValue2Tail_T(t,df) \n",
        "t,pvalue_t"
      ]
    },
    {
      "cell_type": "markdown",
      "metadata": {
        "id": "f0ObFKUnNjtp"
      },
      "source": [
        "<p>или</p>"
      ]
    },
    {
      "cell_type": "code",
      "execution_count": 151,
      "metadata": {
        "colab": {
          "base_uri": "https://localhost:8080/"
        },
        "id": "NcY4rN_LNjtp",
        "outputId": "1f15f874-7d56-461b-b7c8-2516cbaefc18"
      },
      "outputs": [
        {
          "data": {
            "text/plain": [
              "(1.4908346848386826, 0.14125899962960098)"
            ]
          },
          "execution_count": 151,
          "metadata": {},
          "output_type": "execute_result"
        }
      ],
      "source": [
        "tvalue, pvalue_t = stats.ttest_ind(sample_london,sample_moscow,equal_var=False)\n",
        "tvalue,pvalue_t"
      ]
    },
    {
      "cell_type": "markdown",
      "metadata": {
        "id": "JbhFMvLvNjtq"
      },
      "source": [
        "<p>или</p>"
      ]
    },
    {
      "cell_type": "code",
      "execution_count": 152,
      "metadata": {
        "colab": {
          "base_uri": "https://localhost:8080/"
        },
        "id": "3U7Do3mANjtq",
        "outputId": "4aebf13b-7846-4c12-97b0-bebefd49da51"
      },
      "outputs": [
        {
          "data": {
            "text/plain": [
              "0.14125899962960098"
            ]
          },
          "execution_count": 152,
          "metadata": {},
          "output_type": "execute_result"
        }
      ],
      "source": [
        "tvalue, pvalue_t =  stats.ttest_ind_from_stats(x_bar_london, sample_london.std(ddof=1), n_london, x_bar_moscow, sample_moscow.std(ddof=1), n_moscow, equal_var=False)\n",
        "pvalue_t"
      ]
    },
    {
      "cell_type": "code",
      "execution_count": 143,
      "metadata": {
        "colab": {
          "base_uri": "https://localhost:8080/"
        },
        "id": "VkkNeoV2Njtq",
        "outputId": "ddf7e2a6-4ace-49a4-d012-6592ab160aec"
      },
      "outputs": [
        {
          "data": {
            "text/plain": [
              "0.1424147898069532"
            ]
          },
          "execution_count": 143,
          "metadata": {},
          "output_type": "execute_result"
        }
      ],
      "source": [
        "pvalue_t = 2 * stats.t.cdf(-abs(tvalue), df)\n",
        "pvalue_t"
      ]
    },
    {
      "cell_type": "markdown",
      "metadata": {
        "id": "g85uF0h2Njts"
      },
      "source": [
        "<p><b>Проверка гипотезы на соответствие уровню значимости $\\alpha$</b></p>"
      ]
    },
    {
      "cell_type": "code",
      "execution_count": 153,
      "metadata": {
        "colab": {
          "base_uri": "https://localhost:8080/"
        },
        "id": "qbSV5ls9Njts",
        "outputId": "e7ab8748-fc9e-4193-b48d-2349f5ea0661"
      },
      "outputs": [
        {
          "name": "stdout",
          "output_type": "stream",
          "text": [
            "alpha <= p-value\n",
            "Принимаем нулевую гипотезу (не отказываемся от нулевой гипотезы)\n"
          ]
        }
      ],
      "source": [
        "if alpha > pvalue:\n",
        "    print(\"alpha > p-value\")\n",
        "    print(\"Отказываемся от нулевую гипотезы в пользу альтернативной\")\n",
        "else:\n",
        "    print(\"alpha <= p-value\")\n",
        "    print(\"Принимаем нулевую гипотезу (не отказываемся от нулевой гипотезы)\")"
      ]
    }
  ],
  "metadata": {
    "colab": {
      "provenance": []
    },
    "kernelspec": {
      "display_name": "Python 3",
      "language": "python",
      "name": "python3"
    },
    "language_info": {
      "codemirror_mode": {
        "name": "ipython",
        "version": 3
      },
      "file_extension": ".py",
      "mimetype": "text/x-python",
      "name": "python",
      "nbconvert_exporter": "python",
      "pygments_lexer": "ipython3",
      "version": "3.11.4"
    }
  },
  "nbformat": 4,
  "nbformat_minor": 0
}
