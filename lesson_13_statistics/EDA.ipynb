{
  "nbformat": 4,
  "nbformat_minor": 0,
  "metadata": {
    "colab": {
      "provenance": []
    },
    "kernelspec": {
      "name": "python3",
      "display_name": "Python 3"
    },
    "language_info": {
      "name": "python"
    }
  },
  "cells": [
    {
      "cell_type": "markdown",
      "source": [
        "# Импорт"
      ],
      "metadata": {
        "id": "vFvcoOAuwc_3"
      }
    },
    {
      "cell_type": "code",
      "execution_count": null,
      "metadata": {
        "id": "Alc-Lbo1vq7A"
      },
      "outputs": [],
      "source": [
        "import pandas as pd\n",
        "import numpy as np\n",
        "import matplotlib.pyplot as plt\n",
        "import seaborn as sns\n",
        "import scipy.stats as stats"
      ]
    },
    {
      "cell_type": "code",
      "source": [
        "!gdown --id 1OPngxMvLVx7krUuLR6YX9TXz0iILah6W\n",
        "df = pd.read_csv('./report.csv')\n",
        "df"
      ],
      "metadata": {
        "colab": {
          "base_uri": "https://localhost:8080/",
          "height": 557
        },
        "id": "1-_K6DNKwBg2",
        "outputId": "108bc067-95da-4ec9-898f-4d128416e204"
      },
      "execution_count": null,
      "outputs": [
        {
          "output_type": "stream",
          "name": "stdout",
          "text": [
            "/usr/local/lib/python3.10/dist-packages/gdown/cli.py:121: FutureWarning: Option `--id` was deprecated in version 4.3.1 and will be removed in 5.0. You don't need to pass it anymore to use a file ID.\n",
            "  warnings.warn(\n",
            "Downloading...\n",
            "From: https://drive.google.com/uc?id=1OPngxMvLVx7krUuLR6YX9TXz0iILah6W\n",
            "To: /content/report.csv\n",
            "100% 264k/264k [00:00<00:00, 43.4MB/s]\n"
          ]
        },
        {
          "output_type": "execute_result",
          "data": {
            "text/plain": [
              "      report_year agency_code agency_jurisdiction  population  violent_crimes  \\\n",
              "0            1975     NM00101     Albuquerque, NM    286238.0          2383.0   \n",
              "1            1975     TX22001       Arlington, TX    112478.0           278.0   \n",
              "2            1975     GAAPD00         Atlanta, GA    490584.0          8033.0   \n",
              "3            1975     CO00101          Aurora, CO    116656.0           611.0   \n",
              "4            1975     TX22701          Austin, TX    300400.0          1215.0   \n",
              "...           ...         ...                 ...         ...             ...   \n",
              "2824         2015     OK07205           Tulsa, OK    401520.0          3628.0   \n",
              "2825         2015     VA12800  Virginia Beach, VA    452797.0           626.0   \n",
              "2826         2015     DCMPD00      Washington, DC    672228.0          8084.0   \n",
              "2827         2015     KS08703         Wichita, KS    389824.0          3839.0   \n",
              "2828         2015         NaN       United States         NaN       1197704.0   \n",
              "\n",
              "      homicides  rapes  assaults  robberies  months_reported  \\\n",
              "0          30.0  181.0    1353.0      819.0             12.0   \n",
              "1           5.0   28.0     132.0      113.0             12.0   \n",
              "2         185.0  443.0    3518.0     3887.0             12.0   \n",
              "3           7.0   44.0     389.0      171.0             12.0   \n",
              "4          33.0  190.0     463.0      529.0             12.0   \n",
              "...         ...    ...       ...        ...              ...   \n",
              "2824       55.0  365.0    2354.0      854.0              NaN   \n",
              "2825       19.0  103.0     234.0      270.0              NaN   \n",
              "2826      162.0  494.0    4024.0     3404.0              NaN   \n",
              "2827       27.0  349.0    2730.0      733.0              NaN   \n",
              "2828    15696.0    NaN       NaN        NaN              NaN   \n",
              "\n",
              "      crimes_percapita  homicides_percapita  rapes_percapita  \\\n",
              "0               832.52                10.48            63.23   \n",
              "1               247.16                 4.45            24.89   \n",
              "2              1637.44                37.71            90.30   \n",
              "3               523.76                 6.00            37.72   \n",
              "4               404.46                10.99            63.25   \n",
              "...                ...                  ...              ...   \n",
              "2824            903.57                13.70            90.90   \n",
              "2825            138.25                 4.20            22.75   \n",
              "2826           1202.57                24.10            73.49   \n",
              "2827            984.80                 6.93            89.53   \n",
              "2828            372.60                 4.90              NaN   \n",
              "\n",
              "      assaults_percapita  robberies_percapita  \n",
              "0                 472.68               286.13  \n",
              "1                 117.36               100.46  \n",
              "2                 717.10               792.32  \n",
              "3                 333.46               146.58  \n",
              "4                 154.13               176.10  \n",
              "...                  ...                  ...  \n",
              "2824              586.27               212.69  \n",
              "2825               51.68                59.63  \n",
              "2826              598.61               506.38  \n",
              "2827              700.32               188.03  \n",
              "2828                 NaN                  NaN  \n",
              "\n",
              "[2829 rows x 15 columns]"
            ],
            "text/html": [
              "\n",
              "  <div id=\"df-deab4a5e-3d8c-4c15-b6c5-45203a3aaea3\" class=\"colab-df-container\">\n",
              "    <div>\n",
              "<style scoped>\n",
              "    .dataframe tbody tr th:only-of-type {\n",
              "        vertical-align: middle;\n",
              "    }\n",
              "\n",
              "    .dataframe tbody tr th {\n",
              "        vertical-align: top;\n",
              "    }\n",
              "\n",
              "    .dataframe thead th {\n",
              "        text-align: right;\n",
              "    }\n",
              "</style>\n",
              "<table border=\"1\" class=\"dataframe\">\n",
              "  <thead>\n",
              "    <tr style=\"text-align: right;\">\n",
              "      <th></th>\n",
              "      <th>report_year</th>\n",
              "      <th>agency_code</th>\n",
              "      <th>agency_jurisdiction</th>\n",
              "      <th>population</th>\n",
              "      <th>violent_crimes</th>\n",
              "      <th>homicides</th>\n",
              "      <th>rapes</th>\n",
              "      <th>assaults</th>\n",
              "      <th>robberies</th>\n",
              "      <th>months_reported</th>\n",
              "      <th>crimes_percapita</th>\n",
              "      <th>homicides_percapita</th>\n",
              "      <th>rapes_percapita</th>\n",
              "      <th>assaults_percapita</th>\n",
              "      <th>robberies_percapita</th>\n",
              "    </tr>\n",
              "  </thead>\n",
              "  <tbody>\n",
              "    <tr>\n",
              "      <th>0</th>\n",
              "      <td>1975</td>\n",
              "      <td>NM00101</td>\n",
              "      <td>Albuquerque, NM</td>\n",
              "      <td>286238.0</td>\n",
              "      <td>2383.0</td>\n",
              "      <td>30.0</td>\n",
              "      <td>181.0</td>\n",
              "      <td>1353.0</td>\n",
              "      <td>819.0</td>\n",
              "      <td>12.0</td>\n",
              "      <td>832.52</td>\n",
              "      <td>10.48</td>\n",
              "      <td>63.23</td>\n",
              "      <td>472.68</td>\n",
              "      <td>286.13</td>\n",
              "    </tr>\n",
              "    <tr>\n",
              "      <th>1</th>\n",
              "      <td>1975</td>\n",
              "      <td>TX22001</td>\n",
              "      <td>Arlington, TX</td>\n",
              "      <td>112478.0</td>\n",
              "      <td>278.0</td>\n",
              "      <td>5.0</td>\n",
              "      <td>28.0</td>\n",
              "      <td>132.0</td>\n",
              "      <td>113.0</td>\n",
              "      <td>12.0</td>\n",
              "      <td>247.16</td>\n",
              "      <td>4.45</td>\n",
              "      <td>24.89</td>\n",
              "      <td>117.36</td>\n",
              "      <td>100.46</td>\n",
              "    </tr>\n",
              "    <tr>\n",
              "      <th>2</th>\n",
              "      <td>1975</td>\n",
              "      <td>GAAPD00</td>\n",
              "      <td>Atlanta, GA</td>\n",
              "      <td>490584.0</td>\n",
              "      <td>8033.0</td>\n",
              "      <td>185.0</td>\n",
              "      <td>443.0</td>\n",
              "      <td>3518.0</td>\n",
              "      <td>3887.0</td>\n",
              "      <td>12.0</td>\n",
              "      <td>1637.44</td>\n",
              "      <td>37.71</td>\n",
              "      <td>90.30</td>\n",
              "      <td>717.10</td>\n",
              "      <td>792.32</td>\n",
              "    </tr>\n",
              "    <tr>\n",
              "      <th>3</th>\n",
              "      <td>1975</td>\n",
              "      <td>CO00101</td>\n",
              "      <td>Aurora, CO</td>\n",
              "      <td>116656.0</td>\n",
              "      <td>611.0</td>\n",
              "      <td>7.0</td>\n",
              "      <td>44.0</td>\n",
              "      <td>389.0</td>\n",
              "      <td>171.0</td>\n",
              "      <td>12.0</td>\n",
              "      <td>523.76</td>\n",
              "      <td>6.00</td>\n",
              "      <td>37.72</td>\n",
              "      <td>333.46</td>\n",
              "      <td>146.58</td>\n",
              "    </tr>\n",
              "    <tr>\n",
              "      <th>4</th>\n",
              "      <td>1975</td>\n",
              "      <td>TX22701</td>\n",
              "      <td>Austin, TX</td>\n",
              "      <td>300400.0</td>\n",
              "      <td>1215.0</td>\n",
              "      <td>33.0</td>\n",
              "      <td>190.0</td>\n",
              "      <td>463.0</td>\n",
              "      <td>529.0</td>\n",
              "      <td>12.0</td>\n",
              "      <td>404.46</td>\n",
              "      <td>10.99</td>\n",
              "      <td>63.25</td>\n",
              "      <td>154.13</td>\n",
              "      <td>176.10</td>\n",
              "    </tr>\n",
              "    <tr>\n",
              "      <th>...</th>\n",
              "      <td>...</td>\n",
              "      <td>...</td>\n",
              "      <td>...</td>\n",
              "      <td>...</td>\n",
              "      <td>...</td>\n",
              "      <td>...</td>\n",
              "      <td>...</td>\n",
              "      <td>...</td>\n",
              "      <td>...</td>\n",
              "      <td>...</td>\n",
              "      <td>...</td>\n",
              "      <td>...</td>\n",
              "      <td>...</td>\n",
              "      <td>...</td>\n",
              "      <td>...</td>\n",
              "    </tr>\n",
              "    <tr>\n",
              "      <th>2824</th>\n",
              "      <td>2015</td>\n",
              "      <td>OK07205</td>\n",
              "      <td>Tulsa, OK</td>\n",
              "      <td>401520.0</td>\n",
              "      <td>3628.0</td>\n",
              "      <td>55.0</td>\n",
              "      <td>365.0</td>\n",
              "      <td>2354.0</td>\n",
              "      <td>854.0</td>\n",
              "      <td>NaN</td>\n",
              "      <td>903.57</td>\n",
              "      <td>13.70</td>\n",
              "      <td>90.90</td>\n",
              "      <td>586.27</td>\n",
              "      <td>212.69</td>\n",
              "    </tr>\n",
              "    <tr>\n",
              "      <th>2825</th>\n",
              "      <td>2015</td>\n",
              "      <td>VA12800</td>\n",
              "      <td>Virginia Beach, VA</td>\n",
              "      <td>452797.0</td>\n",
              "      <td>626.0</td>\n",
              "      <td>19.0</td>\n",
              "      <td>103.0</td>\n",
              "      <td>234.0</td>\n",
              "      <td>270.0</td>\n",
              "      <td>NaN</td>\n",
              "      <td>138.25</td>\n",
              "      <td>4.20</td>\n",
              "      <td>22.75</td>\n",
              "      <td>51.68</td>\n",
              "      <td>59.63</td>\n",
              "    </tr>\n",
              "    <tr>\n",
              "      <th>2826</th>\n",
              "      <td>2015</td>\n",
              "      <td>DCMPD00</td>\n",
              "      <td>Washington, DC</td>\n",
              "      <td>672228.0</td>\n",
              "      <td>8084.0</td>\n",
              "      <td>162.0</td>\n",
              "      <td>494.0</td>\n",
              "      <td>4024.0</td>\n",
              "      <td>3404.0</td>\n",
              "      <td>NaN</td>\n",
              "      <td>1202.57</td>\n",
              "      <td>24.10</td>\n",
              "      <td>73.49</td>\n",
              "      <td>598.61</td>\n",
              "      <td>506.38</td>\n",
              "    </tr>\n",
              "    <tr>\n",
              "      <th>2827</th>\n",
              "      <td>2015</td>\n",
              "      <td>KS08703</td>\n",
              "      <td>Wichita, KS</td>\n",
              "      <td>389824.0</td>\n",
              "      <td>3839.0</td>\n",
              "      <td>27.0</td>\n",
              "      <td>349.0</td>\n",
              "      <td>2730.0</td>\n",
              "      <td>733.0</td>\n",
              "      <td>NaN</td>\n",
              "      <td>984.80</td>\n",
              "      <td>6.93</td>\n",
              "      <td>89.53</td>\n",
              "      <td>700.32</td>\n",
              "      <td>188.03</td>\n",
              "    </tr>\n",
              "    <tr>\n",
              "      <th>2828</th>\n",
              "      <td>2015</td>\n",
              "      <td>NaN</td>\n",
              "      <td>United States</td>\n",
              "      <td>NaN</td>\n",
              "      <td>1197704.0</td>\n",
              "      <td>15696.0</td>\n",
              "      <td>NaN</td>\n",
              "      <td>NaN</td>\n",
              "      <td>NaN</td>\n",
              "      <td>NaN</td>\n",
              "      <td>372.60</td>\n",
              "      <td>4.90</td>\n",
              "      <td>NaN</td>\n",
              "      <td>NaN</td>\n",
              "      <td>NaN</td>\n",
              "    </tr>\n",
              "  </tbody>\n",
              "</table>\n",
              "<p>2829 rows × 15 columns</p>\n",
              "</div>\n",
              "    <div class=\"colab-df-buttons\">\n",
              "\n",
              "  <div class=\"colab-df-container\">\n",
              "    <button class=\"colab-df-convert\" onclick=\"convertToInteractive('df-deab4a5e-3d8c-4c15-b6c5-45203a3aaea3')\"\n",
              "            title=\"Convert this dataframe to an interactive table.\"\n",
              "            style=\"display:none;\">\n",
              "\n",
              "  <svg xmlns=\"http://www.w3.org/2000/svg\" height=\"24px\" viewBox=\"0 -960 960 960\">\n",
              "    <path d=\"M120-120v-720h720v720H120Zm60-500h600v-160H180v160Zm220 220h160v-160H400v160Zm0 220h160v-160H400v160ZM180-400h160v-160H180v160Zm440 0h160v-160H620v160ZM180-180h160v-160H180v160Zm440 0h160v-160H620v160Z\"/>\n",
              "  </svg>\n",
              "    </button>\n",
              "\n",
              "  <style>\n",
              "    .colab-df-container {\n",
              "      display:flex;\n",
              "      gap: 12px;\n",
              "    }\n",
              "\n",
              "    .colab-df-convert {\n",
              "      background-color: #E8F0FE;\n",
              "      border: none;\n",
              "      border-radius: 50%;\n",
              "      cursor: pointer;\n",
              "      display: none;\n",
              "      fill: #1967D2;\n",
              "      height: 32px;\n",
              "      padding: 0 0 0 0;\n",
              "      width: 32px;\n",
              "    }\n",
              "\n",
              "    .colab-df-convert:hover {\n",
              "      background-color: #E2EBFA;\n",
              "      box-shadow: 0px 1px 2px rgba(60, 64, 67, 0.3), 0px 1px 3px 1px rgba(60, 64, 67, 0.15);\n",
              "      fill: #174EA6;\n",
              "    }\n",
              "\n",
              "    .colab-df-buttons div {\n",
              "      margin-bottom: 4px;\n",
              "    }\n",
              "\n",
              "    [theme=dark] .colab-df-convert {\n",
              "      background-color: #3B4455;\n",
              "      fill: #D2E3FC;\n",
              "    }\n",
              "\n",
              "    [theme=dark] .colab-df-convert:hover {\n",
              "      background-color: #434B5C;\n",
              "      box-shadow: 0px 1px 3px 1px rgba(0, 0, 0, 0.15);\n",
              "      filter: drop-shadow(0px 1px 2px rgba(0, 0, 0, 0.3));\n",
              "      fill: #FFFFFF;\n",
              "    }\n",
              "  </style>\n",
              "\n",
              "    <script>\n",
              "      const buttonEl =\n",
              "        document.querySelector('#df-deab4a5e-3d8c-4c15-b6c5-45203a3aaea3 button.colab-df-convert');\n",
              "      buttonEl.style.display =\n",
              "        google.colab.kernel.accessAllowed ? 'block' : 'none';\n",
              "\n",
              "      async function convertToInteractive(key) {\n",
              "        const element = document.querySelector('#df-deab4a5e-3d8c-4c15-b6c5-45203a3aaea3');\n",
              "        const dataTable =\n",
              "          await google.colab.kernel.invokeFunction('convertToInteractive',\n",
              "                                                    [key], {});\n",
              "        if (!dataTable) return;\n",
              "\n",
              "        const docLinkHtml = 'Like what you see? Visit the ' +\n",
              "          '<a target=\"_blank\" href=https://colab.research.google.com/notebooks/data_table.ipynb>data table notebook</a>'\n",
              "          + ' to learn more about interactive tables.';\n",
              "        element.innerHTML = '';\n",
              "        dataTable['output_type'] = 'display_data';\n",
              "        await google.colab.output.renderOutput(dataTable, element);\n",
              "        const docLink = document.createElement('div');\n",
              "        docLink.innerHTML = docLinkHtml;\n",
              "        element.appendChild(docLink);\n",
              "      }\n",
              "    </script>\n",
              "  </div>\n",
              "\n",
              "\n",
              "<div id=\"df-81385a35-d261-4c61-858b-fdc3c106b8bf\">\n",
              "  <button class=\"colab-df-quickchart\" onclick=\"quickchart('df-81385a35-d261-4c61-858b-fdc3c106b8bf')\"\n",
              "            title=\"Suggest charts\"\n",
              "            style=\"display:none;\">\n",
              "\n",
              "<svg xmlns=\"http://www.w3.org/2000/svg\" height=\"24px\"viewBox=\"0 0 24 24\"\n",
              "     width=\"24px\">\n",
              "    <g>\n",
              "        <path d=\"M19 3H5c-1.1 0-2 .9-2 2v14c0 1.1.9 2 2 2h14c1.1 0 2-.9 2-2V5c0-1.1-.9-2-2-2zM9 17H7v-7h2v7zm4 0h-2V7h2v10zm4 0h-2v-4h2v4z\"/>\n",
              "    </g>\n",
              "</svg>\n",
              "  </button>\n",
              "\n",
              "<style>\n",
              "  .colab-df-quickchart {\n",
              "      --bg-color: #E8F0FE;\n",
              "      --fill-color: #1967D2;\n",
              "      --hover-bg-color: #E2EBFA;\n",
              "      --hover-fill-color: #174EA6;\n",
              "      --disabled-fill-color: #AAA;\n",
              "      --disabled-bg-color: #DDD;\n",
              "  }\n",
              "\n",
              "  [theme=dark] .colab-df-quickchart {\n",
              "      --bg-color: #3B4455;\n",
              "      --fill-color: #D2E3FC;\n",
              "      --hover-bg-color: #434B5C;\n",
              "      --hover-fill-color: #FFFFFF;\n",
              "      --disabled-bg-color: #3B4455;\n",
              "      --disabled-fill-color: #666;\n",
              "  }\n",
              "\n",
              "  .colab-df-quickchart {\n",
              "    background-color: var(--bg-color);\n",
              "    border: none;\n",
              "    border-radius: 50%;\n",
              "    cursor: pointer;\n",
              "    display: none;\n",
              "    fill: var(--fill-color);\n",
              "    height: 32px;\n",
              "    padding: 0;\n",
              "    width: 32px;\n",
              "  }\n",
              "\n",
              "  .colab-df-quickchart:hover {\n",
              "    background-color: var(--hover-bg-color);\n",
              "    box-shadow: 0 1px 2px rgba(60, 64, 67, 0.3), 0 1px 3px 1px rgba(60, 64, 67, 0.15);\n",
              "    fill: var(--button-hover-fill-color);\n",
              "  }\n",
              "\n",
              "  .colab-df-quickchart-complete:disabled,\n",
              "  .colab-df-quickchart-complete:disabled:hover {\n",
              "    background-color: var(--disabled-bg-color);\n",
              "    fill: var(--disabled-fill-color);\n",
              "    box-shadow: none;\n",
              "  }\n",
              "\n",
              "  .colab-df-spinner {\n",
              "    border: 2px solid var(--fill-color);\n",
              "    border-color: transparent;\n",
              "    border-bottom-color: var(--fill-color);\n",
              "    animation:\n",
              "      spin 1s steps(1) infinite;\n",
              "  }\n",
              "\n",
              "  @keyframes spin {\n",
              "    0% {\n",
              "      border-color: transparent;\n",
              "      border-bottom-color: var(--fill-color);\n",
              "      border-left-color: var(--fill-color);\n",
              "    }\n",
              "    20% {\n",
              "      border-color: transparent;\n",
              "      border-left-color: var(--fill-color);\n",
              "      border-top-color: var(--fill-color);\n",
              "    }\n",
              "    30% {\n",
              "      border-color: transparent;\n",
              "      border-left-color: var(--fill-color);\n",
              "      border-top-color: var(--fill-color);\n",
              "      border-right-color: var(--fill-color);\n",
              "    }\n",
              "    40% {\n",
              "      border-color: transparent;\n",
              "      border-right-color: var(--fill-color);\n",
              "      border-top-color: var(--fill-color);\n",
              "    }\n",
              "    60% {\n",
              "      border-color: transparent;\n",
              "      border-right-color: var(--fill-color);\n",
              "    }\n",
              "    80% {\n",
              "      border-color: transparent;\n",
              "      border-right-color: var(--fill-color);\n",
              "      border-bottom-color: var(--fill-color);\n",
              "    }\n",
              "    90% {\n",
              "      border-color: transparent;\n",
              "      border-bottom-color: var(--fill-color);\n",
              "    }\n",
              "  }\n",
              "</style>\n",
              "\n",
              "  <script>\n",
              "    async function quickchart(key) {\n",
              "      const quickchartButtonEl =\n",
              "        document.querySelector('#' + key + ' button');\n",
              "      quickchartButtonEl.disabled = true;  // To prevent multiple clicks.\n",
              "      quickchartButtonEl.classList.add('colab-df-spinner');\n",
              "      try {\n",
              "        const charts = await google.colab.kernel.invokeFunction(\n",
              "            'suggestCharts', [key], {});\n",
              "      } catch (error) {\n",
              "        console.error('Error during call to suggestCharts:', error);\n",
              "      }\n",
              "      quickchartButtonEl.classList.remove('colab-df-spinner');\n",
              "      quickchartButtonEl.classList.add('colab-df-quickchart-complete');\n",
              "    }\n",
              "    (() => {\n",
              "      let quickchartButtonEl =\n",
              "        document.querySelector('#df-81385a35-d261-4c61-858b-fdc3c106b8bf button');\n",
              "      quickchartButtonEl.style.display =\n",
              "        google.colab.kernel.accessAllowed ? 'block' : 'none';\n",
              "    })();\n",
              "  </script>\n",
              "</div>\n",
              "    </div>\n",
              "  </div>\n"
            ]
          },
          "metadata": {},
          "execution_count": 2
        }
      ]
    },
    {
      "cell_type": "markdown",
      "source": [
        "# Чистка данных"
      ],
      "metadata": {
        "id": "EJwJJA6dwYA7"
      }
    },
    {
      "cell_type": "markdown",
      "source": [
        "Уберите ячейки с nan. В таблице это строчки с \"подведением итогов\" каждого года и неполная информация за 2015 год"
      ],
      "metadata": {
        "id": "yNbaXmPjw2Bz"
      }
    },
    {
      "cell_type": "markdown",
      "source": [
        "Также в колонках \"per capita\" значения оказались домноженными на 10^5, так что это тоже следует исправить"
      ],
      "metadata": {
        "id": "3ulxYOPrxOpK"
      }
    },
    {
      "cell_type": "code",
      "source": [],
      "metadata": {
        "id": "81zy71DQxLN9"
      },
      "execution_count": null,
      "outputs": []
    },
    {
      "cell_type": "markdown",
      "source": [
        "# Обзор данных"
      ],
      "metadata": {
        "id": "0L853f2LxhKD"
      }
    },
    {
      "cell_type": "markdown",
      "source": [
        "Посмотрите на статистики по датасету"
      ],
      "metadata": {
        "id": "FGUpFNwKF_bo"
      }
    },
    {
      "cell_type": "code",
      "source": [
        "# Your code here"
      ],
      "metadata": {
        "id": "-yH5rRXKxiBZ"
      },
      "execution_count": 1,
      "outputs": []
    },
    {
      "cell_type": "markdown",
      "source": [
        "Такое описание данных выглядит неинформативно. Для многих столбцов оно вообще не имеет смысла. Более интересно посмотреть статистику, сгруппированную по годам/местам."
      ],
      "metadata": {
        "id": "mj9OsNTIxmvT"
      }
    },
    {
      "cell_type": "code",
      "source": [
        "# Your code here"
      ],
      "metadata": {
        "id": "Y3ZTKzJRxyHS"
      },
      "execution_count": 2,
      "outputs": []
    },
    {
      "cell_type": "code",
      "source": [
        "# Your code here"
      ],
      "metadata": {
        "id": "Xvsk-dRzx05Z"
      },
      "execution_count": 3,
      "outputs": []
    },
    {
      "cell_type": "markdown",
      "source": [
        "Сделайте вывод от тендециях и запишите тут ваш инсайд"
      ],
      "metadata": {
        "id": "iir2X6BfGIru"
      }
    },
    {
      "cell_type": "markdown",
      "source": [
        "# Более детальный анализ"
      ],
      "metadata": {
        "id": "Sg0FSupUx-lr"
      }
    },
    {
      "cell_type": "markdown",
      "source": [
        "## Изменение уровня преступности по годам"
      ],
      "metadata": {
        "id": "sxayoR6Hx_kQ"
      }
    },
    {
      "cell_type": "markdown",
      "source": [
        "Сперва, мне захотелось посмотреть на то как изменяются частоты различных преступлений. Ожидания - графики частот всех видов преступлений по времени будут иметь примерно одинаковые пики/падения.\n",
        "Возьмём таблицу количеств происшествий по годам и перезапишем столбцы происшествий на душу населения."
      ],
      "metadata": {
        "id": "t83hgMWYyFET"
      }
    },
    {
      "cell_type": "code",
      "source": [
        "# Your code here"
      ],
      "metadata": {
        "id": "GvhDWO5Fx2v_"
      },
      "execution_count": 4,
      "outputs": []
    },
    {
      "cell_type": "markdown",
      "source": [
        "Теперь мы получили таблицу, в которой число преступлений на душу населения за год расчитано правильно. Посмотрим на графики частот различных преступлений."
      ],
      "metadata": {
        "id": "q7N3SB62yLKi"
      }
    },
    {
      "cell_type": "code",
      "source": [
        "# Your code here"
      ],
      "metadata": {
        "id": "EzBRU1HCyNvN"
      },
      "execution_count": 5,
      "outputs": []
    },
    {
      "cell_type": "code",
      "source": [
        "# Your code here"
      ],
      "metadata": {
        "id": "wMk9IbzVyTjm"
      },
      "execution_count": 6,
      "outputs": []
    },
    {
      "cell_type": "markdown",
      "source": [
        "Сделайте вывод о скачках преступности за всее время. Есть ли для всех видов схожие пики? С чем можно связать в экономическом смысле?"
      ],
      "metadata": {
        "id": "iCCrIloFGduL"
      }
    },
    {
      "cell_type": "markdown",
      "source": [
        "## Зависимость уровня преступности от численности населения территориальных субъектов"
      ],
      "metadata": {
        "id": "YNMfdWn4yZLB"
      }
    },
    {
      "cell_type": "markdown",
      "source": [
        "Если мы предполагаем, что преступления встречаются с примерно одинаковой частотой, то ожидаем увидеть линейную зависимость количества преступлений от населенности города."
      ],
      "metadata": {
        "id": "I-E6HVULyZEI"
      }
    },
    {
      "cell_type": "markdown",
      "source": [
        "Сперва я предлагаю посмотреть, как тенденция из предыдущего графика выполняется для городов с наибольшим и наименьшим числом жителей."
      ],
      "metadata": {
        "id": "DuoqsdSryY6d"
      }
    },
    {
      "cell_type": "code",
      "source": [
        "# Your code here"
      ],
      "metadata": {
        "id": "FFzzthXqyXM1"
      },
      "execution_count": 7,
      "outputs": []
    },
    {
      "cell_type": "markdown",
      "source": [
        "Взглянув на таблицу, сделайте вывод о данных."
      ],
      "metadata": {
        "id": "2duW8Kl5GuQS"
      }
    },
    {
      "cell_type": "markdown",
      "source": [
        "Получите сводную таблицу частот преступлений в различных городах. Посмотрите на их изменение в самом крупном/мелком городе, в городах с наибольшей наименьшей преступностью."
      ],
      "metadata": {
        "id": "zwXD_eEPG3Lx"
      }
    },
    {
      "cell_type": "code",
      "source": [
        "# Your code here"
      ],
      "metadata": {
        "id": "zdwRWxdXypA-"
      },
      "execution_count": 8,
      "outputs": []
    },
    {
      "cell_type": "markdown",
      "source": [
        "Постройте графики"
      ],
      "metadata": {
        "id": "_IloHRtXG_n-"
      }
    },
    {
      "cell_type": "code",
      "source": [
        "# Your code here"
      ],
      "metadata": {
        "id": "gAHr5BvAy3cr"
      },
      "execution_count": 9,
      "outputs": []
    },
    {
      "cell_type": "markdown",
      "source": [
        "Можно ли сказать, что наименьшие по размеру/уровню преступности города обходят общие тренды?"
      ],
      "metadata": {
        "id": "uEJ1pM2OHFHS"
      }
    },
    {
      "cell_type": "markdown",
      "source": [
        "Но вернемся к проверке линейной зависимости. Будем рассматривать зависимость числа всех преступлений от размера населения городов."
      ],
      "metadata": {
        "id": "jy0N1Gk4y7Hg"
      }
    },
    {
      "cell_type": "code",
      "source": [
        "# Your code here"
      ],
      "metadata": {
        "id": "PBh6Eewly_TT"
      },
      "execution_count": 10,
      "outputs": []
    },
    {
      "cell_type": "code",
      "source": [
        "# Your code here"
      ],
      "metadata": {
        "id": "agEKZYFLzCNP"
      },
      "execution_count": 11,
      "outputs": []
    },
    {
      "cell_type": "markdown",
      "source": [
        "Воспользуйте regplot из пакета Seaborn"
      ],
      "metadata": {
        "id": "LDvlX5V1HRHJ"
      }
    },
    {
      "cell_type": "code",
      "source": [
        "# Your code here"
      ],
      "metadata": {
        "id": "Nmd6oYxrzFAq"
      },
      "execution_count": 12,
      "outputs": []
    },
    {
      "cell_type": "code",
      "source": [
        "# Your code here"
      ],
      "metadata": {
        "id": "2k2G-X6szHOA"
      },
      "execution_count": 13,
      "outputs": []
    },
    {
      "cell_type": "markdown",
      "source": [
        "Посчитайте корреляцию пирсона"
      ],
      "metadata": {
        "id": "MJvcQxs8HW4e"
      }
    },
    {
      "cell_type": "code",
      "source": [
        "# Your code here"
      ],
      "metadata": {
        "id": "xa61sJX2zJzL"
      },
      "execution_count": 14,
      "outputs": []
    },
    {
      "cell_type": "code",
      "source": [
        "# Your code here"
      ],
      "metadata": {
        "id": "Jv8StzPkzOo2"
      },
      "execution_count": 15,
      "outputs": []
    },
    {
      "cell_type": "markdown",
      "source": [
        "Есть ли корреляция между частотами преступления и числа городов?\n",
        "А если посмотреть на города с населением больше 1.5 млн?\n",
        "Расммотрите их отдельно ниже"
      ],
      "metadata": {
        "id": "3qnzi4veHaaE"
      }
    },
    {
      "cell_type": "code",
      "source": [
        "# Your code here"
      ],
      "metadata": {
        "id": "5lpavrwkz7t4"
      },
      "execution_count": 16,
      "outputs": []
    },
    {
      "cell_type": "code",
      "source": [
        "# Your code here"
      ],
      "metadata": {
        "id": "yjsvEyjQ1M7H"
      },
      "execution_count": 17,
      "outputs": []
    },
    {
      "cell_type": "markdown",
      "source": [
        "Какой вывод можно сделать? Если тренды для преступности? Можно ли это достоверно утверждать?"
      ],
      "metadata": {
        "id": "Ik9vtT_kHnIF"
      }
    },
    {
      "cell_type": "markdown",
      "source": [
        "## Проверка на нормальность частот преступлений"
      ],
      "metadata": {
        "id": "SgKiwZBK1Wjc"
      }
    },
    {
      "cell_type": "markdown",
      "source": [
        "Посмотрим на распределение частот преступлений в различных городах. Вряд ли стоит ожидать, что распределение окажется нормальным, но ради эксперимента, можно попробовать."
      ],
      "metadata": {
        "id": "XA83d3eS1XaX"
      }
    },
    {
      "cell_type": "code",
      "source": [
        "# Your code here"
      ],
      "metadata": {
        "id": "qdmGrw8W1aTn"
      },
      "execution_count": 18,
      "outputs": []
    },
    {
      "cell_type": "code",
      "source": [
        "# Your code here"
      ],
      "metadata": {
        "id": "GIQxxSW51dOX"
      },
      "execution_count": 19,
      "outputs": []
    },
    {
      "cell_type": "markdown",
      "source": [
        "Попробуйте также посмотреть по различным преступлениям."
      ],
      "metadata": {
        "id": "dYuacPbjHyr_"
      }
    },
    {
      "cell_type": "markdown",
      "source": [
        "Проведите дополнительный анализ, визуализируйте различные признаки и зависимости между ними."
      ],
      "metadata": {
        "id": "_ij4tuStH4XO"
      }
    }
  ]
}