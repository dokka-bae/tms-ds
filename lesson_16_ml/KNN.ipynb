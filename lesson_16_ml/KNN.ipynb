{
  "cells": [
    {
      "cell_type": "markdown",
      "metadata": {
        "id": "giMUSayPBOYo"
      },
      "source": [
        "# Задача 2.3. KNN\n",
        "\n",
        "В этом задании Вам предлагается написать класс `KNN_classifier`, пригодный для решения задачи классификации (многоклассовой).\n",
        "\n",
        "Мы предлагаем Вам шаблон класса. В этом шаблоне заполните тела функций `.fit` и `.predict`\n",
        "\n",
        "В качестве функции близости используйте Евклидово расстояние между объектами (подробнее https://numpy.org/doc/stable/reference/generated/numpy.linalg.norm.html).\n",
        "\n",
        "Напоминание:\n",
        "\n",
        "* Функция `.fit(x, y)` производит обучение модели. В рамках этой функции необходимо реализовать подбор оптимальных параметров модели/сконфигурировать модель для дальнейшего использования на основе данной тренировочной выборки, где x - это матрица признакового описания выборки, а y - вектор ответов.\n",
        "\n",
        "* Функция `.predict(x)` осуществляет предсказание для каждого из объектов, чьи векторные описания представлены строками матрицы x. Выполняется строго после `.fit()`. Ради безопасности можно даже реализовать механизм отказа в виде выбрасывания специальной ошибки `UnfittedError` в случае попытки вызова функции `.predict()` до вызова функции `.fit()`.\n",
        "\n",
        "\n",
        "Шаблон класса:"
      ]
    },
    {
      "cell_type": "code",
      "execution_count": 144,
      "metadata": {
        "id": "lrYLUYPGBUeI"
      },
      "outputs": [],
      "source": [
        "import numpy as np\n",
        "\n",
        "class UnfittedError(Exception):\n",
        "    pass\n",
        "\n",
        "\n",
        "class KNN_classifier:\n",
        "    def __init__(self, n_neighbors: int, **kwargs):\n",
        "        self.__k = n_neighbors\n",
        "        self.__trained_status: bool = False\n",
        "\n",
        "    def fit(self, x: np.ndarray, y: np.ndarray) -> None:\n",
        "        self.__x:np.ndarray[np.float64] = x\n",
        "        self.__y:np.ndarray[np.float64] = y\n",
        "        self.__trained_status = True\n",
        "        # TODO: напишите метод .fit() класса KNN_classifier\n",
        "        # Эта функция принимает нвход два массива:\n",
        "        # - x (набор признаков, массив размерности n x m, n - число объектов, m - размерность признакового описания)\n",
        "        # - y (метки для обучения, одномерный массив размерности n)\n",
        "        # Эта функция ничего не возвращает, она должна настроить внутренние параметры модели для дальнейшего использования\n",
        "        # Подумайте, в чем заключается процесс обучения именно этого алгоритма?\n",
        "        # Что этот алгоритм делает в тот момент, когда он получил обучающую выборку?\n",
        "        # Реализуйте эту логику в коде\n",
        "        pass\n",
        "\n",
        "    def __trained_check(func):\n",
        "        def wrapper(self,*args,**kwargs):\n",
        "            if self.__trained_status == False:\n",
        "                raise UnfittedError\n",
        "            return func(self,*args,**kwargs)\n",
        "        return wrapper\n",
        "    \n",
        "    @__trained_check\n",
        "    def predict(self, x: np.ndarray[np.float64]) -> np.ndarray:\n",
        "        predictions = []\n",
        "        for object in x:\n",
        "            distances = []\n",
        "            for i in range(len(self.__x)):\n",
        "                distances.append(np.sqrt(np.sum((self.__x[i]-object)**2)))\n",
        "            distances = np.argsort(np.array(distances))\n",
        "            predictions.append(np.argmax(np.bincount(self.__y[distances[:self.__k]])))\n",
        "        # TODO: напишите метод .predict(x) класса KNN_classifier\n",
        "        # Этот метод принимает на вход один массив x. Массив x - это двумерный массив объектов, для которых требуется получить предсказание\n",
        "        # На выходе этой функции мы хотим получить одномерный массив predictions, размерности x.shape[0] (то есть для каждогго объекта массива x мы сделали своё предсказание)\n",
        "        # Вспомните, как алгоритм KNN делает предсказание?\n",
        "        # Реализуйте эту логику в коде\n",
        "        predictions = np.array(predictions)\n",
        "        return predictions"
      ]
    },
    {
      "cell_type": "markdown",
      "metadata": {
        "id": "z3o6dV1XBX6d"
      },
      "source": [
        "## Примечания\n",
        "\n",
        "1. Вы можете проверить правильность выполнения задания посредством сравнения полученных результатов с функцией из соответствующего модуля `sklearn`.\n",
        "\n",
        "2. В рамках выполнения данного задания **запрещено** использовать функции из пакета `sklearn` и любого другого, кроме `numpy`. \n",
        "\n",
        "3. **Подсказка:** если Вы испытываете сложности с реализацией этого задания, начните выполнять его с написания функции `.predict`. В процессе написания этой функции Вы поймёте, что конкретно Вам требуется получить от обучающей выборки, какую информацию и в каком виде извлечь из неё. Затем реализуйте это в функции `.fit`"
      ]
    },
    {
      "cell_type": "markdown",
      "metadata": {
        "id": "0Xo10b5J-xTX"
      },
      "source": [
        "## Пример входных и выходных данных"
      ]
    },
    {
      "cell_type": "code",
      "execution_count": 145,
      "metadata": {
        "colab": {
          "base_uri": "https://localhost:8080/"
        },
        "id": "XJ2zlkPO_lKL",
        "outputId": "25aa24d1-ed1c-4c1b-bb90-6519fd425629"
      },
      "outputs": [
        {
          "data": {
            "text/plain": [
              "array([[ 0.56510722,  0.68599596, -0.92388505, -0.29546048, -0.12437532],\n",
              "       [-0.79617537,  0.98406791,  1.19542652, -0.05626863, -0.69868076],\n",
              "       [ 0.9629688 , -1.00423925, -0.53842833, -0.23744358,  0.83226685],\n",
              "       [ 0.24671269, -0.41624448,  0.81679337,  1.59227446,  0.16192583],\n",
              "       [-0.36972363,  0.17425997,  1.33668078,  1.16687907,  0.31709134],\n",
              "       [-1.30482844, -0.05354323, -0.88862186, -1.121785  , -0.78442809],\n",
              "       [-0.53975018,  0.90074877, -1.09317408,  1.52989481, -0.43375015],\n",
              "       [-0.64709803, -0.09775791,  1.3506503 , -1.46957788,  1.63325543],\n",
              "       [-0.73858464, -0.60678229,  0.31420272, -0.43100129, -0.37665876],\n",
              "       [-0.29208809, -0.68795722,  0.06586655,  0.9583851 ,  1.70640775]])"
            ]
          },
          "execution_count": 145,
          "metadata": {},
          "output_type": "execute_result"
        }
      ],
      "source": [
        "x = [[ 0.56510722,  0.68599596, -0.92388505, -0.29546048, -0.12437532],\n",
        "       [-0.79617537,  0.98406791,  1.19542652, -0.05626863, -0.69868076],\n",
        "       [ 0.9629688 , -1.00423925, -0.53842833, -0.23744358,  0.83226685],\n",
        "       [ 0.24671269, -0.41624448,  0.81679337,  1.59227446,  0.16192583],\n",
        "       [-0.36972363,  0.17425997,  1.33668078,  1.16687907,  0.31709134],\n",
        "       [-1.30482844, -0.05354323, -0.88862186, -1.121785  , -0.78442809],\n",
        "       [-0.53975018,  0.90074877, -1.09317408,  1.52989481, -0.43375015],\n",
        "       [-0.64709803, -0.09775791,  1.3506503 , -1.46957788,  1.63325543],\n",
        "       [-0.73858464, -0.60678229,  0.31420272, -0.43100129, -0.37665876],\n",
        "       [-0.29208809, -0.68795722,  0.06586655,  0.9583851 ,  1.70640775]]\n",
        "x = np.array(x,dtype=np.float64)\n",
        "x"
      ]
    },
    {
      "cell_type": "code",
      "execution_count": 146,
      "metadata": {
        "colab": {
          "base_uri": "https://localhost:8080/"
        },
        "id": "W5Dws6L2_m8w",
        "outputId": "3cf9024f-626f-4daf-a630-2583a9cb0cb4"
      },
      "outputs": [
        {
          "data": {
            "text/plain": [
              "array([1, 0, 0, 1, 0, 1, 0, 1, 0, 1])"
            ]
          },
          "execution_count": 146,
          "metadata": {},
          "output_type": "execute_result"
        }
      ],
      "source": [
        "y = np.array([1, 0, 0, 1, 0, 1, 0, 1, 0, 1])\n",
        "y"
      ]
    },
    {
      "cell_type": "code",
      "execution_count": 147,
      "metadata": {
        "id": "icADSPko_oEh"
      },
      "outputs": [],
      "source": [
        "knn = KNN_classifier(n_neighbors=3)"
      ]
    },
    {
      "cell_type": "code",
      "execution_count": 148,
      "metadata": {
        "id": "XSNCFpho_tqM"
      },
      "outputs": [],
      "source": [
        "knn.fit(x, y)"
      ]
    },
    {
      "cell_type": "code",
      "execution_count": 149,
      "metadata": {
        "colab": {
          "base_uri": "https://localhost:8080/"
        },
        "id": "u8cnf2ir_4n1",
        "outputId": "a9f778da-78a5-4684-d236-ad49cb7e7acf"
      },
      "outputs": [],
      "source": [
        "x_test = np.array([[-0.12489725,  0.65791923, -0.73112495,  1.42660225,  1.64728976],\n",
        "       [ 0.01913388, -1.11351208, -0.63244098, -0.98121107,  0.38060892],\n",
        "       [-0.92074931,  1.39812225,  0.39692147,  0.7717827 ,  0.44604002]])"
      ]
    },
    {
      "cell_type": "code",
      "execution_count": 150,
      "metadata": {
        "colab": {
          "base_uri": "https://localhost:8080/"
        },
        "id": "LaSaCBs9_xYM",
        "outputId": "6aed0939-3ab3-4f2f-f254-cca23dd81ed1"
      },
      "outputs": [
        {
          "data": {
            "text/plain": [
              "array([1, 0, 0], dtype=int64)"
            ]
          },
          "execution_count": 150,
          "metadata": {},
          "output_type": "execute_result"
        }
      ],
      "source": [
        "knn.predict(x_test)"
      ]
    },
    {
      "cell_type": "code",
      "execution_count": 151,
      "metadata": {},
      "outputs": [
        {
          "ename": "UnfittedError",
          "evalue": "",
          "output_type": "error",
          "traceback": [
            "\u001b[1;31m---------------------------------------------------------------------------\u001b[0m",
            "\u001b[1;31mUnfittedError\u001b[0m                             Traceback (most recent call last)",
            "Cell \u001b[1;32mIn[151], line 2\u001b[0m\n\u001b[0;32m      1\u001b[0m knn \u001b[38;5;241m=\u001b[39m KNN_classifier(\u001b[38;5;241m3\u001b[39m)\n\u001b[1;32m----> 2\u001b[0m \u001b[43mknn\u001b[49m\u001b[38;5;241;43m.\u001b[39;49m\u001b[43mpredict\u001b[49m\u001b[43m(\u001b[49m\u001b[43m[\u001b[49m\u001b[38;5;241;43m1\u001b[39;49m\u001b[43m,\u001b[49m\u001b[38;5;241;43m2\u001b[39;49m\u001b[43m]\u001b[49m\u001b[43m)\u001b[49m\n",
            "Cell \u001b[1;32mIn[144], line 29\u001b[0m, in \u001b[0;36mKNN_classifier.__trained_check.<locals>.wrapper\u001b[1;34m(self, *args, **kwargs)\u001b[0m\n\u001b[0;32m     27\u001b[0m \u001b[38;5;28;01mdef\u001b[39;00m \u001b[38;5;21mwrapper\u001b[39m(\u001b[38;5;28mself\u001b[39m,\u001b[38;5;241m*\u001b[39margs,\u001b[38;5;241m*\u001b[39m\u001b[38;5;241m*\u001b[39mkwargs):\n\u001b[0;32m     28\u001b[0m     \u001b[38;5;28;01mif\u001b[39;00m \u001b[38;5;28mself\u001b[39m\u001b[38;5;241m.\u001b[39m__trained_status \u001b[38;5;241m==\u001b[39m \u001b[38;5;28;01mFalse\u001b[39;00m:\n\u001b[1;32m---> 29\u001b[0m         \u001b[38;5;28;01mraise\u001b[39;00m UnfittedError\n\u001b[0;32m     30\u001b[0m     \u001b[38;5;28;01mreturn\u001b[39;00m func(\u001b[38;5;28mself\u001b[39m,\u001b[38;5;241m*\u001b[39margs,\u001b[38;5;241m*\u001b[39m\u001b[38;5;241m*\u001b[39mkwargs)\n",
            "\u001b[1;31mUnfittedError\u001b[0m: "
          ]
        }
      ],
      "source": [
        "knn = KNN_classifier(3)\n",
        "knn.predict([1,2])"
      ]
    }
  ],
  "metadata": {
    "colab": {
      "provenance": []
    },
    "kernelspec": {
      "display_name": "Python 3",
      "name": "python3"
    },
    "language_info": {
      "codemirror_mode": {
        "name": "ipython",
        "version": 3
      },
      "file_extension": ".py",
      "mimetype": "text/x-python",
      "name": "python",
      "nbconvert_exporter": "python",
      "pygments_lexer": "ipython3",
      "version": "3.11.4"
    }
  },
  "nbformat": 4,
  "nbformat_minor": 0
}
