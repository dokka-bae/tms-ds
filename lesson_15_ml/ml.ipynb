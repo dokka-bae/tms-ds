{
  "nbformat": 4,
  "nbformat_minor": 0,
  "metadata": {
    "colab": {
      "provenance": []
    },
    "kernelspec": {
      "name": "python3",
      "display_name": "Python 3"
    },
    "language_info": {
      "name": "python"
    }
  },
  "cells": [
    {
      "cell_type": "markdown",
      "source": [
        "Шаблон кода для заполнения:"
      ],
      "metadata": {
        "id": "zrTqdyBid_G8"
      }
    },
    {
      "cell_type": "code",
      "source": [
        "import numpy as np\n",
        "\n",
        "np.random.seed(42)\n",
        "# Функция подсчета градиента\n",
        "def gradient(y_true: float, y_pred: float, x: np.array) -> np.array:\n",
        "    grad = None\n",
        "    pass\n",
        "    return grad\n",
        "\n",
        "\n",
        "# Функция обновления весов\n",
        "def update(alpha: np.array, gradient: np.array, lr: float):\n",
        "    \"\"\"\n",
        "    alpha: текущее приближения вектора параметров модели\n",
        "    gradient: посчитанный градиент по параметрам модели\n",
        "    lr: learning rate, множитель перед градиентом в формуле обновления параметров\n",
        "    \"\"\"\n",
        "    alpha_new = None\n",
        "    return alpha_new\n",
        "\n",
        "\n",
        "# функция тренировки модели\n",
        "def train(\n",
        "    alpha0: np.array, x_train: np.array, y_train: np.array, lr: float, num_epoch: int\n",
        "):\n",
        "    \"\"\"\n",
        "    alpha0 - начальное приближение параметров модели\n",
        "    x_train - матрица объект-признак обучающей выборки\n",
        "    y_train - верные ответы для обучающей выборки\n",
        "    lr - learning rate, множитель перед градиентом в формуле обновления параметров\n",
        "    num_epoch - количество эпох обучения, то есть полных 'проходов' через весь датасет\n",
        "    \"\"\"\n",
        "    alpha = alpha0.copy()\n",
        "    for epo in range(num_epoch):\n",
        "        for i, x in enumerate(x_train):\n",
        "            # TODO: write your code here\n",
        "            pass\n",
        "    return alpha"
      ],
      "metadata": {
        "id": "CCM4EIh_d8-n"
      },
      "execution_count": null,
      "outputs": []
    }
  ]
}